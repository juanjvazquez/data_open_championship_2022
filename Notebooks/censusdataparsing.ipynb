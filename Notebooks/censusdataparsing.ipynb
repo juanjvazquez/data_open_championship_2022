{
 "cells": [
  {
   "cell_type": "code",
   "execution_count": 33,
   "metadata": {},
   "outputs": [
    {
     "name": "stderr",
     "output_type": "stream",
     "text": [
      "C:\\Users\\Emre Mutlu\\AppData\\Local\\Temp\\ipykernel_8280\\2800583293.py:30: SettingWithCopyWarning: \n",
      "A value is trying to be set on a copy of a slice from a DataFrame.\n",
      "Try using .loc[row_indexer,col_indexer] = value instead\n",
      "\n",
      "See the caveats in the documentation: https://pandas.pydata.org/pandas-docs/stable/user_guide/indexing.html#returning-a-view-versus-a-copy\n",
      "  CDFD['DiscrepancyCheck'] = CDFD['TOT_POP'] - CDFD[rcols].sum(axis=1)\n",
      "C:\\Users\\Emre Mutlu\\AppData\\Local\\Temp\\ipykernel_8280\\2800583293.py:34: SettingWithCopyWarning: \n",
      "A value is trying to be set on a copy of a slice from a DataFrame.\n",
      "Try using .loc[row_indexer,col_indexer] = value instead\n",
      "\n",
      "See the caveats in the documentation: https://pandas.pydata.org/pandas-docs/stable/user_guide/indexing.html#returning-a-view-versus-a-copy\n",
      "  CDFD_2015YOUNG[\"countyFIPS\"] = CDFD_2015YOUNG[\"countyFIPS\"].astype(str)\n",
      "C:\\Users\\Emre Mutlu\\AppData\\Local\\Temp\\ipykernel_8280\\2800583293.py:35: FutureWarning: The default value of numeric_only in DataFrameGroupBy.sum is deprecated. In a future version, numeric_only will default to False. Either specify numeric_only or select only columns which should be valid for the function.\n",
      "  CDFD_2015YOUNGGROUPED = CDFD_2015YOUNG.groupby(['countyFIPS']).sum()\n"
     ]
    }
   ],
   "source": [
    "import pandas as pd\n",
    "\n",
    "CD = pd.read_csv(\"censusData.csv\")\n",
    "CDF = CD.copy()\n",
    "CDC = CD[CD['STNAME']=='California']\n",
    "\n",
    "CDF['White'] = CDF['NHWA_MALE'] + CDF['NHWA_FEMALE']\n",
    "\n",
    "CDF['Black or African American'] = CDF['NHBA_MALE'] + CDF['NHBA_FEMALE']\n",
    "\n",
    "CDF['Hispanic'] = (CDF['H_MALE'] + CDF['H_FEMALE'])-CDF['HTOM_MALE']-CDF['HTOM_FEMALE']\n",
    "\n",
    "CDF['American Indian or Alaska Native'] = CDF['NHIA_MALE'] + CDF['NHIA_FEMALE']\n",
    "\n",
    "CDF['Asian'] = CDF['NHAA_MALE'] + CDF['NHAA_FEMALE']\n",
    "\n",
    "CDF['Native Hawaiian or Pacific Islander'] = CDF['NHNA_MALE'] + CDF['NHNA_FEMALE']\n",
    "\n",
    "CDF['Two or More Races'] = CDF['TOM_MALE'] + CDF['TOM_FEMALE']\n",
    "\n",
    "CDF['STATE'] = CDF.apply(lambda row: str(row.STATE).zfill(2), axis=1)\n",
    "CDF['COUNTY'] = CDF.apply(lambda row: str(row.COUNTY).zfill(3), axis=1)\n",
    "\n",
    "CDF[\"countyFIPS\"] = CDF['STATE']+CDF['COUNTY']\n",
    "\n",
    "cols = ['STATE', 'countyFIPS', 'STNAME', 'CTYNAME', 'YEAR', 'AGEGRP','TOT_POP', 'White', 'Black or African American', 'Hispanic', 'American Indian or Alaska Native', 'Asian', 'Native Hawaiian or Pacific Islander', 'Two or More Races']\n",
    "rcols = ['White', 'Black or African American', 'Hispanic', 'American Indian or Alaska Native', 'Asian', 'Native Hawaiian or Pacific Islander', 'Two or More Races']\n",
    "\n",
    "CDFD = CDF[cols]\n",
    "CDFD['DiscrepancyCheck'] = CDFD['TOT_POP'] - CDFD[rcols].sum(axis=1) \n",
    "\n",
    "CDFD_2015 = CDFD[CDFD['YEAR'] == 8]\n",
    "CDFD_2015YOUNG = CDFD_2015[CDFD_2015['AGEGRP'].isin([4,5])]\n",
    "CDFD_2015YOUNG['countyFIPS'] = CDFD_2015YOUNG[\"countyFIPS\"].astype(str)\n",
    "CDFD_2015YOUNGGROUPED = CDFD_2015YOUNG.groupby(['countyFIPS']).sum()\n",
    "\n",
    "CDFinal = CDFD_2015YOUNGGROUPED.drop([\"AGEGRP\", \"YEAR\"], axis=1)\n",
    "\n",
    "CDFinal.to_csv(\"censusDataAGE15-24.csv\", encoding=\"utf-8\") \n",
    "\n"
   ]
  }
 ],
 "metadata": {
  "kernelspec": {
   "display_name": "Python 3.9.15 ('myenv')",
   "language": "python",
   "name": "python3"
  },
  "language_info": {
   "codemirror_mode": {
    "name": "ipython",
    "version": 3
   },
   "file_extension": ".py",
   "mimetype": "text/x-python",
   "name": "python",
   "nbconvert_exporter": "python",
   "pygments_lexer": "ipython3",
   "version": "3.9.15"
  },
  "orig_nbformat": 4,
  "vscode": {
   "interpreter": {
    "hash": "e1e48e43246355db6a210baf97c7f4445d1b566c09824f0e37caf48b42655f10"
   }
  }
 },
 "nbformat": 4,
 "nbformat_minor": 2
}
