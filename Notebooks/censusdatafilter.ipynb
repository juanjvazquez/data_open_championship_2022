{
 "cells": [
  {
   "cell_type": "code",
   "execution_count": 5,
   "metadata": {},
   "outputs": [],
   "source": [
    "import pandas as pd\n",
    "\n",
    "Admissions = pd.read_csv(\"ADM_2015-2021_data.csv\")\n",
    "CD = pd.read_csv(\"cc-est2019-alldata.csv\", engine='python',encoding='ISO-8859-1')\n",
    "\n",
    "CD.to_csv(\"censusData.csv\", encoding=\"utf-8\") \n"
   ]
  }
 ],
 "metadata": {
  "kernelspec": {
   "display_name": "Python 3.9.15 ('myenv')",
   "language": "python",
   "name": "python3"
  },
  "language_info": {
   "codemirror_mode": {
    "name": "ipython",
    "version": 3
   },
   "file_extension": ".py",
   "mimetype": "text/x-python",
   "name": "python",
   "nbconvert_exporter": "python",
   "pygments_lexer": "ipython3",
   "version": "3.9.15"
  },
  "orig_nbformat": 4,
  "vscode": {
   "interpreter": {
    "hash": "e1e48e43246355db6a210baf97c7f4445d1b566c09824f0e37caf48b42655f10"
   }
  }
 },
 "nbformat": 4,
 "nbformat_minor": 2
}
