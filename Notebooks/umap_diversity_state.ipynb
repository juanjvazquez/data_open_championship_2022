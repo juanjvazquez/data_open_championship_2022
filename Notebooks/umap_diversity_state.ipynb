{
 "cells": [
  {
   "cell_type": "code",
   "execution_count": 21,
   "id": "f610b6be",
   "metadata": {},
   "outputs": [
    {
     "name": "stderr",
     "output_type": "stream",
     "text": [
      "/tmp/ipykernel_5283/3777615979.py:1: DeprecationWarning:\n",
      "\n",
      "Importing display from IPython.core.display is deprecated since IPython 7.14, please import from IPython display\n",
      "\n"
     ]
    },
    {
     "data": {
      "text/html": [
       "<style>.container { width:100% !important; }</style>"
      ],
      "text/plain": [
       "<IPython.core.display.HTML object>"
      ]
     },
     "metadata": {},
     "output_type": "display_data"
    }
   ],
   "source": [
    "from IPython.core.display import display, HTML\n",
    "display(HTML(\"<style>.container { width:100% !important; }</style>\"))"
   ]
  },
  {
   "cell_type": "code",
   "execution_count": 22,
   "id": "bccb9a02",
   "metadata": {},
   "outputs": [],
   "source": [
    "import cuml\n",
    "\n",
    "import pandas as pd\n",
    "import numpy as np\n",
    "import tqdm, glob\n",
    "import plotly\n",
    "from plotly.offline import iplot\n",
    "import plotly.graph_objs as go\n",
    "import plotly.express as px\n",
    "\n",
    "from IPython.display import Javascript\n",
    "\n",
    "from ipywidgets import IntProgress\n",
    "\n",
    "from sentence_transformers import SentenceTransformer"
   ]
  },
  {
   "cell_type": "code",
   "execution_count": 23,
   "id": "6b323b8a",
   "metadata": {},
   "outputs": [
    {
     "data": {
      "text/html": [
       "<div>\n",
       "<style scoped>\n",
       "    .dataframe tbody tr th:only-of-type {\n",
       "        vertical-align: middle;\n",
       "    }\n",
       "\n",
       "    .dataframe tbody tr th {\n",
       "        vertical-align: top;\n",
       "    }\n",
       "\n",
       "    .dataframe thead th {\n",
       "        text-align: right;\n",
       "    }\n",
       "</style>\n",
       "<table border=\"1\" class=\"dataframe\">\n",
       "  <thead>\n",
       "    <tr style=\"text-align: right;\">\n",
       "      <th></th>\n",
       "      <th>state</th>\n",
       "      <th>airatioS</th>\n",
       "      <th>asratioS</th>\n",
       "      <th>bkratioS</th>\n",
       "      <th>hiratioS</th>\n",
       "      <th>nhratioS</th>\n",
       "      <th>whratioS</th>\n",
       "      <th>tmratioS</th>\n",
       "      <th>unratioS</th>\n",
       "    </tr>\n",
       "  </thead>\n",
       "  <tbody>\n",
       "    <tr>\n",
       "      <th>0</th>\n",
       "      <td>Alabama</td>\n",
       "      <td>0.004601</td>\n",
       "      <td>0.015110</td>\n",
       "      <td>0.256387</td>\n",
       "      <td>0.052554</td>\n",
       "      <td>0.000520</td>\n",
       "      <td>0.631205</td>\n",
       "      <td>0.036745</td>\n",
       "      <td>0.002877</td>\n",
       "    </tr>\n",
       "    <tr>\n",
       "      <th>1</th>\n",
       "      <td>Alaska</td>\n",
       "      <td>0.148404</td>\n",
       "      <td>0.059244</td>\n",
       "      <td>0.028267</td>\n",
       "      <td>0.067936</td>\n",
       "      <td>0.016983</td>\n",
       "      <td>0.575079</td>\n",
       "      <td>0.097848</td>\n",
       "      <td>0.006238</td>\n",
       "    </tr>\n",
       "    <tr>\n",
       "      <th>2</th>\n",
       "      <td>Arizona</td>\n",
       "      <td>0.036906</td>\n",
       "      <td>0.034795</td>\n",
       "      <td>0.044349</td>\n",
       "      <td>0.306544</td>\n",
       "      <td>0.002003</td>\n",
       "      <td>0.533671</td>\n",
       "      <td>0.037312</td>\n",
       "      <td>0.004420</td>\n",
       "    </tr>\n",
       "    <tr>\n",
       "      <th>3</th>\n",
       "      <td>Arkansas</td>\n",
       "      <td>0.006823</td>\n",
       "      <td>0.017005</td>\n",
       "      <td>0.149387</td>\n",
       "      <td>0.085288</td>\n",
       "      <td>0.004742</td>\n",
       "      <td>0.685218</td>\n",
       "      <td>0.048865</td>\n",
       "      <td>0.002672</td>\n",
       "    </tr>\n",
       "    <tr>\n",
       "      <th>4</th>\n",
       "      <td>California</td>\n",
       "      <td>0.003948</td>\n",
       "      <td>0.151216</td>\n",
       "      <td>0.053601</td>\n",
       "      <td>0.394040</td>\n",
       "      <td>0.003495</td>\n",
       "      <td>0.346869</td>\n",
       "      <td>0.041168</td>\n",
       "      <td>0.005664</td>\n",
       "    </tr>\n",
       "  </tbody>\n",
       "</table>\n",
       "</div>"
      ],
      "text/plain": [
       "        state  airatioS  asratioS  bkratioS  hiratioS  nhratioS  whratioS  \\\n",
       "0     Alabama  0.004601  0.015110  0.256387  0.052554  0.000520  0.631205   \n",
       "1      Alaska  0.148404  0.059244  0.028267  0.067936  0.016983  0.575079   \n",
       "2     Arizona  0.036906  0.034795  0.044349  0.306544  0.002003  0.533671   \n",
       "3    Arkansas  0.006823  0.017005  0.149387  0.085288  0.004742  0.685218   \n",
       "4  California  0.003948  0.151216  0.053601  0.394040  0.003495  0.346869   \n",
       "\n",
       "   tmratioS  unratioS  \n",
       "0  0.036745  0.002877  \n",
       "1  0.097848  0.006238  \n",
       "2  0.037312  0.004420  \n",
       "3  0.048865  0.002672  \n",
       "4  0.041168  0.005664  "
      ]
     },
     "execution_count": 23,
     "metadata": {},
     "output_type": "execute_result"
    }
   ],
   "source": [
    "# Get baseline data for ethnicity per state\n",
    "RacePerState_path = \"DO2022_additional_data/race_per_state_clean.csv\"\n",
    "df_RPS = pd.read_csv(RacePerState_path)\n",
    "df_RPS.set_index('Label (Grouping)', inplace=True)\n",
    "df_RPS = df_RPS.copy().T\n",
    "df_RPS = df_RPS.dropna(axis='columns', how='all')\n",
    "df_RPS = df_RPS.reset_index()\n",
    "df_RPS = df_RPS.rename_axis(None, axis=1)\n",
    "df_RPS = df_RPS.rename(columns={'index': 'State', 'Total':'eftotlt','Hispanic or Latino total': 'efhispt', 'White total':'efwhitt', 'Black or African American total':'efbkaat', 'American Indian and Alaska Native total':'efaiant', 'Asian total':'efasiat', 'Native Hawaiian and Other Pacific Islander total':'efnhpit', 'Some Other Race total':'efunknt', 'Two or more races total':'ef2mort'})\n",
    "colsS = ['eftotlt','efhispt','efwhitt','efbkaat','efaiant','efasiat','efnhpit','efunknt','ef2mort']\n",
    "df_RPS[colsS]=df_RPS[colsS].apply(lambda x: x.str.replace(',',''))\n",
    "df_RPS[colsS]=df_RPS[colsS].astype(\"float\")\n",
    "df_RPS.head()\n",
    "\n",
    "# Baseline ratios for ethnicity per state\n",
    "df_ratiosS = pd.DataFrame()\n",
    "df_ratiosS['state'] = df_RPS['State']\n",
    "df_ratiosS['airatioS'] = df_RPS.apply(lambda row: row.efaiant / row.eftotlt, axis=1)\n",
    "df_ratiosS['asratioS'] = df_RPS.apply(lambda row: row.efasiat / row.eftotlt, axis=1)\n",
    "df_ratiosS['bkratioS'] = df_RPS.apply(lambda row: row.efbkaat / row.eftotlt, axis=1)\n",
    "df_ratiosS['hiratioS'] = df_RPS.apply(lambda row: row.efhispt / row.eftotlt, axis=1)\n",
    "df_ratiosS['nhratioS'] = df_RPS.apply(lambda row: row.efnhpit / row.eftotlt, axis=1)\n",
    "df_ratiosS['whratioS'] = df_RPS.apply(lambda row: row.efwhitt / row.eftotlt, axis=1)\n",
    "df_ratiosS['tmratioS'] = df_RPS.apply(lambda row: row.ef2mort / row.eftotlt, axis=1)\n",
    "df_ratiosS['unratioS'] = df_RPS.apply(lambda row: row.efunknt / row.eftotlt, axis=1)\n",
    "df_ratiosS.head()"
   ]
  },
  {
   "cell_type": "code",
   "execution_count": 24,
   "id": "406ac588",
   "metadata": {},
   "outputs": [],
   "source": [
    "SN = len(df_ratiosS)\n",
    "sdf = df_ratiosS.sample(n=min(SN, len(df_ratiosS)))"
   ]
  },
  {
   "cell_type": "code",
   "execution_count": 25,
   "id": "0c1348ba",
   "metadata": {},
   "outputs": [
    {
     "data": {
      "text/plain": [
       "Index(['airatioS', 'asratioS', 'bkratioS', 'hiratioS', 'nhratioS', 'whratioS',\n",
       "       'tmratioS', 'unratioS'],\n",
       "      dtype='object')"
      ]
     },
     "execution_count": 25,
     "metadata": {},
     "output_type": "execute_result"
    }
   ],
   "source": [
    "sdf.columns[1:]"
   ]
  },
  {
   "cell_type": "code",
   "execution_count": 26,
   "id": "3a60f0f3",
   "metadata": {
    "scrolled": true
   },
   "outputs": [],
   "source": [
    "# sdf[sdf.columns[1:]].values"
   ]
  },
  {
   "cell_type": "code",
   "execution_count": 27,
   "id": "4cd62df5",
   "metadata": {},
   "outputs": [],
   "source": [
    "\n",
    "TN = len(df_ratiosS)\n",
    "tdf = sdf[:TN]\n",
    "encs = sdf[sdf.columns[1:]].values\n",
    "tencs = encs[:TN, :]\n",
    "\n",
    "trans = cuml.UMAP(n_components=2, min_dist=0.02, n_neighbors=10, output_type='numpy').fit_transform(tencs)\n",
    "trans = np.array(trans)\n",
    "tdf = tdf.assign(px = trans[:,0], py = trans[:,1])\n"
   ]
  },
  {
   "cell_type": "code",
   "execution_count": 28,
   "id": "f2daa986",
   "metadata": {},
   "outputs": [],
   "source": [
    "def fr(pts):\n",
    "    r = (np.quantile(pts, 0.05), np.quantile(pts, 0.95))\n",
    "    w = r[1] - r[0]\n",
    "    return (r[0] - 0.3 * w, r[1] + 0.3 * w)\n",
    "\n",
    "xr = fr(tdf['px'])\n",
    "yr = fr(tdf['py'])\n",
    "tdf = tdf[(tdf['px'] > xr[0]) & (tdf['px'] < xr[1]) & (tdf['py'] > yr[0]) & (tdf['py'] < yr[1])]"
   ]
  },
  {
   "cell_type": "code",
   "execution_count": 29,
   "id": "7dda42f4",
   "metadata": {
    "scrolled": false
   },
   "outputs": [],
   "source": [
    "\n",
    "PN = 6000\n",
    "\n",
    "bins = int((len(tdf) / 2) ** 0.5)\n",
    "xs = np.linspace(xr[0], xr[1], num=bins)\n",
    "ys = np.linspace(yr[0], yr[1], num=bins)\n",
    "\n",
    "azs, _, _ = np.histogram2d(tdf.px, tdf.py, bins=(xs, ys))\n",
    "azs = np.minimum(azs, np.quantile(azs, 0.90))"
   ]
  },
  {
   "cell_type": "code",
   "execution_count": 30,
   "id": "3601e5d0",
   "metadata": {
    "scrolled": false
   },
   "outputs": [
    {
     "data": {
      "application/vnd.plotly.v1+json": {
       "config": {
        "linkText": "Export to plot.ly",
        "plotlyServerURL": "https://plot.ly",
        "showLink": false
       },
       "data": [
        {
         "colorscale": [
          [
           0,
           "rgb(255,255,255)"
          ],
          [
           0.125,
           "rgb(240,240,240)"
          ],
          [
           0.25,
           "rgb(217,217,217)"
          ],
          [
           0.375,
           "rgb(189,189,189)"
          ],
          [
           0.5,
           "rgb(150,150,150)"
          ],
          [
           0.625,
           "rgb(115,115,115)"
          ],
          [
           0.75,
           "rgb(82,82,82)"
          ],
          [
           0.875,
           "rgb(37,37,37)"
          ],
          [
           1,
           "rgb(0,0,0)"
          ]
         ],
         "opacity": 0.4,
         "showscale": false,
         "type": "contour",
         "x": [
          -430.0261190795899,
          -143.71015594482435,
          142.60580718994117,
          428.9217703247067
         ],
         "y": [
          -422.3300711059571,
          -140.27355621337898,
          141.7829586791991,
          423.8394735717772
         ],
         "z": [
          [
           3,
           1,
           1,
           2
          ],
          [
           2,
           7,
           8,
           1
          ],
          [
           2,
           6,
           8,
           0
          ],
          [
           2,
           2,
           1,
           2
          ]
         ]
        },
        {
         "customdata": [
          [
           "Connecticut"
          ]
         ],
         "hovertemplate": "state=%{customdata[0]}<br>px=%{x}<br>py=%{y}<extra></extra>",
         "legendgroup": "Connecticut",
         "marker": {
          "color": "#636efa",
          "symbol": "circle"
         },
         "mode": "markers",
         "name": "Connecticut",
         "orientation": "v",
         "showlegend": true,
         "type": "scatter",
         "x": [
          136.37936401367188
         ],
         "xaxis": "x",
         "y": [
          -259.17816162109375
         ],
         "yaxis": "y"
        },
        {
         "customdata": [
          [
           "Georgia"
          ]
         ],
         "hovertemplate": "state=%{customdata[0]}<br>px=%{x}<br>py=%{y}<extra></extra>",
         "legendgroup": "Georgia",
         "marker": {
          "color": "#EF553B",
          "symbol": "circle"
         },
         "mode": "markers",
         "name": "Georgia",
         "orientation": "v",
         "showlegend": true,
         "type": "scatter",
         "x": [
          166.7525634765625
         ],
         "xaxis": "x",
         "y": [
          -172.26495361328125
         ],
         "yaxis": "y"
        },
        {
         "customdata": [
          [
           "Alaska"
          ]
         ],
         "hovertemplate": "state=%{customdata[0]}<br>px=%{x}<br>py=%{y}<extra></extra>",
         "legendgroup": "Alaska",
         "marker": {
          "color": "#00cc96",
          "symbol": "circle"
         },
         "mode": "markers",
         "name": "Alaska",
         "orientation": "v",
         "showlegend": true,
         "type": "scatter",
         "x": [
          -216.45388793945312
         ],
         "xaxis": "x",
         "y": [
          213.43325805664062
         ],
         "yaxis": "y"
        },
        {
         "customdata": [
          [
           "Arizona"
          ]
         ],
         "hovertemplate": "state=%{customdata[0]}<br>px=%{x}<br>py=%{y}<extra></extra>",
         "legendgroup": "Arizona",
         "marker": {
          "color": "#ab63fa",
          "symbol": "circle"
         },
         "mode": "markers",
         "name": "Arizona",
         "orientation": "v",
         "showlegend": true,
         "type": "scatter",
         "x": [
          -296.1462097167969
         ],
         "xaxis": "x",
         "y": [
          224.77474975585938
         ],
         "yaxis": "y"
        },
        {
         "customdata": [
          [
           "New Jersey"
          ]
         ],
         "hovertemplate": "state=%{customdata[0]}<br>px=%{x}<br>py=%{y}<extra></extra>",
         "legendgroup": "New Jersey",
         "marker": {
          "color": "#FFA15A",
          "symbol": "circle"
         },
         "mode": "markers",
         "name": "New Jersey",
         "orientation": "v",
         "showlegend": true,
         "type": "scatter",
         "x": [
          -114.5360336303711
         ],
         "xaxis": "x",
         "y": [
          317.8487548828125
         ],
         "yaxis": "y"
        },
        {
         "customdata": [
          [
           "Rhode Island"
          ]
         ],
         "hovertemplate": "state=%{customdata[0]}<br>px=%{x}<br>py=%{y}<extra></extra>",
         "legendgroup": "Rhode Island",
         "marker": {
          "color": "#19d3f3",
          "symbol": "circle"
         },
         "mode": "markers",
         "name": "Rhode Island",
         "orientation": "v",
         "showlegend": true,
         "type": "scatter",
         "x": [
          -207.6906280517578
         ],
         "xaxis": "x",
         "y": [
          -297.5655517578125
         ],
         "yaxis": "y"
        },
        {
         "customdata": [
          [
           "Montana"
          ]
         ],
         "hovertemplate": "state=%{customdata[0]}<br>px=%{x}<br>py=%{y}<extra></extra>",
         "legendgroup": "Montana",
         "marker": {
          "color": "#FF6692",
          "symbol": "circle"
         },
         "mode": "markers",
         "name": "Montana",
         "orientation": "v",
         "showlegend": true,
         "type": "scatter",
         "x": [
          -348.9671630859375
         ],
         "xaxis": "x",
         "y": [
          333.49993896484375
         ],
         "yaxis": "y"
        },
        {
         "customdata": [
          [
           "Florida"
          ]
         ],
         "hovertemplate": "state=%{customdata[0]}<br>px=%{x}<br>py=%{y}<extra></extra>",
         "legendgroup": "Florida",
         "marker": {
          "color": "#B6E880",
          "symbol": "circle"
         },
         "mode": "markers",
         "name": "Florida",
         "orientation": "v",
         "showlegend": true,
         "type": "scatter",
         "x": [
          272.44622802734375
         ],
         "xaxis": "x",
         "y": [
          162.7859344482422
         ],
         "yaxis": "y"
        },
        {
         "customdata": [
          [
           "Colorado"
          ]
         ],
         "hovertemplate": "state=%{customdata[0]}<br>px=%{x}<br>py=%{y}<extra></extra>",
         "legendgroup": "Colorado",
         "marker": {
          "color": "#FF97FF",
          "symbol": "circle"
         },
         "mode": "markers",
         "name": "Colorado",
         "orientation": "v",
         "showlegend": true,
         "type": "scatter",
         "x": [
          206.2697296142578
         ],
         "xaxis": "x",
         "y": [
          91.46121215820312
         ],
         "yaxis": "y"
        },
        {
         "customdata": [
          [
           "South Dakota"
          ]
         ],
         "hovertemplate": "state=%{customdata[0]}<br>px=%{x}<br>py=%{y}<extra></extra>",
         "legendgroup": "South Dakota",
         "marker": {
          "color": "#FECB52",
          "symbol": "circle"
         },
         "mode": "markers",
         "name": "South Dakota",
         "orientation": "v",
         "showlegend": true,
         "type": "scatter",
         "x": [
          280.6435852050781
         ],
         "xaxis": "x",
         "y": [
          -180.18325805664062
         ],
         "yaxis": "y"
        },
        {
         "customdata": [
          [
           "Vermont"
          ]
         ],
         "hovertemplate": "state=%{customdata[0]}<br>px=%{x}<br>py=%{y}<extra></extra>",
         "legendgroup": "Vermont",
         "marker": {
          "color": "#636efa",
          "symbol": "circle"
         },
         "mode": "markers",
         "name": "Vermont",
         "orientation": "v",
         "showlegend": true,
         "type": "scatter",
         "x": [
          -302.11932373046875
         ],
         "xaxis": "x",
         "y": [
          -163.8579559326172
         ],
         "yaxis": "y"
        },
        {
         "customdata": [
          [
           "Maryland"
          ]
         ],
         "hovertemplate": "state=%{customdata[0]}<br>px=%{x}<br>py=%{y}<extra></extra>",
         "legendgroup": "Maryland",
         "marker": {
          "color": "#EF553B",
          "symbol": "circle"
         },
         "mode": "markers",
         "name": "Maryland",
         "orientation": "v",
         "showlegend": true,
         "type": "scatter",
         "x": [
          -108.2593002319336
         ],
         "xaxis": "x",
         "y": [
          166.5320587158203
         ],
         "yaxis": "y"
        },
        {
         "customdata": [
          [
           "Idaho"
          ]
         ],
         "hovertemplate": "state=%{customdata[0]}<br>px=%{x}<br>py=%{y}<extra></extra>",
         "legendgroup": "Idaho",
         "marker": {
          "color": "#00cc96",
          "symbol": "circle"
         },
         "mode": "markers",
         "name": "Idaho",
         "orientation": "v",
         "showlegend": true,
         "type": "scatter",
         "x": [
          254.44607543945312
         ],
         "xaxis": "x",
         "y": [
          212.99069213867188
         ],
         "yaxis": "y"
        },
        {
         "customdata": [
          [
           "West Virginia"
          ]
         ],
         "hovertemplate": "state=%{customdata[0]}<br>px=%{x}<br>py=%{y}<extra></extra>",
         "legendgroup": "West Virginia",
         "marker": {
          "color": "#ab63fa",
          "symbol": "circle"
         },
         "mode": "markers",
         "name": "West Virginia",
         "orientation": "v",
         "showlegend": true,
         "type": "scatter",
         "x": [
          115.63385772705078
         ],
         "xaxis": "x",
         "y": [
          -362.07177734375
         ],
         "yaxis": "y"
        },
        {
         "customdata": [
          [
           "District of Columbia"
          ]
         ],
         "hovertemplate": "state=%{customdata[0]}<br>px=%{x}<br>py=%{y}<extra></extra>",
         "legendgroup": "District of Columbia",
         "marker": {
          "color": "#FFA15A",
          "symbol": "circle"
         },
         "mode": "markers",
         "name": "District of Columbia",
         "orientation": "v",
         "showlegend": true,
         "type": "scatter",
         "x": [
          -92.19449615478516
         ],
         "xaxis": "x",
         "y": [
          -43.587432861328125
         ],
         "yaxis": "y"
        },
        {
         "customdata": [
          [
           "Massachusetts"
          ]
         ],
         "hovertemplate": "state=%{customdata[0]}<br>px=%{x}<br>py=%{y}<extra></extra>",
         "legendgroup": "Massachusetts",
         "marker": {
          "color": "#19d3f3",
          "symbol": "circle"
         },
         "mode": "markers",
         "name": "Massachusetts",
         "orientation": "v",
         "showlegend": true,
         "type": "scatter",
         "x": [
          285.06268310546875
         ],
         "xaxis": "x",
         "y": [
          285.63018798828125
         ],
         "yaxis": "y"
        },
        {
         "customdata": [
          [
           "Missouri"
          ]
         ],
         "hovertemplate": "state=%{customdata[0]}<br>px=%{x}<br>py=%{y}<extra></extra>",
         "legendgroup": "Missouri",
         "marker": {
          "color": "#FF6692",
          "symbol": "circle"
         },
         "mode": "markers",
         "name": "Missouri",
         "orientation": "v",
         "showlegend": true,
         "type": "scatter",
         "x": [
          198.9584197998047
         ],
         "xaxis": "x",
         "y": [
          -186.1807861328125
         ],
         "yaxis": "y"
        },
        {
         "customdata": [
          [
           "Indiana"
          ]
         ],
         "hovertemplate": "state=%{customdata[0]}<br>px=%{x}<br>py=%{y}<extra></extra>",
         "legendgroup": "Indiana",
         "marker": {
          "color": "#B6E880",
          "symbol": "circle"
         },
         "mode": "markers",
         "name": "Indiana",
         "orientation": "v",
         "showlegend": true,
         "type": "scatter",
         "x": [
          -85.42716979980469
         ],
         "xaxis": "x",
         "y": [
          312.8807067871094
         ],
         "yaxis": "y"
        },
        {
         "customdata": [
          [
           "Illinois"
          ]
         ],
         "hovertemplate": "state=%{customdata[0]}<br>px=%{x}<br>py=%{y}<extra></extra>",
         "legendgroup": "Illinois",
         "marker": {
          "color": "#FF97FF",
          "symbol": "circle"
         },
         "mode": "markers",
         "name": "Illinois",
         "orientation": "v",
         "showlegend": true,
         "type": "scatter",
         "x": [
          -221.50283813476562
         ],
         "xaxis": "x",
         "y": [
          -159.22833251953125
         ],
         "yaxis": "y"
        },
        {
         "customdata": [
          [
           "New Hampshire"
          ]
         ],
         "hovertemplate": "state=%{customdata[0]}<br>px=%{x}<br>py=%{y}<extra></extra>",
         "legendgroup": "New Hampshire",
         "marker": {
          "color": "#FECB52",
          "symbol": "circle"
         },
         "mode": "markers",
         "name": "New Hampshire",
         "orientation": "v",
         "showlegend": true,
         "type": "scatter",
         "x": [
          409.97607421875
         ],
         "xaxis": "x",
         "y": [
          388.414794921875
         ],
         "yaxis": "y"
        },
        {
         "customdata": [
          [
           "Oregon"
          ]
         ],
         "hovertemplate": "state=%{customdata[0]}<br>px=%{x}<br>py=%{y}<extra></extra>",
         "legendgroup": "Oregon",
         "marker": {
          "color": "#636efa",
          "symbol": "circle"
         },
         "mode": "markers",
         "name": "Oregon",
         "orientation": "v",
         "showlegend": true,
         "type": "scatter",
         "x": [
          36.006629943847656
         ],
         "xaxis": "x",
         "y": [
          274.42266845703125
         ],
         "yaxis": "y"
        },
        {
         "customdata": [
          [
           "Mississippi"
          ]
         ],
         "hovertemplate": "state=%{customdata[0]}<br>px=%{x}<br>py=%{y}<extra></extra>",
         "legendgroup": "Mississippi",
         "marker": {
          "color": "#EF553B",
          "symbol": "circle"
         },
         "mode": "markers",
         "name": "Mississippi",
         "orientation": "v",
         "showlegend": true,
         "type": "scatter",
         "x": [
          14.16189956665039
         ],
         "xaxis": "x",
         "y": [
          -87.92139434814453
         ],
         "yaxis": "y"
        },
        {
         "customdata": [
          [
           "Kentucky"
          ]
         ],
         "hovertemplate": "state=%{customdata[0]}<br>px=%{x}<br>py=%{y}<extra></extra>",
         "legendgroup": "Kentucky",
         "marker": {
          "color": "#00cc96",
          "symbol": "circle"
         },
         "mode": "markers",
         "name": "Kentucky",
         "orientation": "v",
         "showlegend": true,
         "type": "scatter",
         "x": [
          -370.03375244140625
         ],
         "xaxis": "x",
         "y": [
          -343.4248046875
         ],
         "yaxis": "y"
        },
        {
         "customdata": [
          [
           "Michigan"
          ]
         ],
         "hovertemplate": "state=%{customdata[0]}<br>px=%{x}<br>py=%{y}<extra></extra>",
         "legendgroup": "Michigan",
         "marker": {
          "color": "#ab63fa",
          "symbol": "circle"
         },
         "mode": "markers",
         "name": "Michigan",
         "orientation": "v",
         "showlegend": true,
         "type": "scatter",
         "x": [
          22.824317932128906
         ],
         "xaxis": "x",
         "y": [
          -198.59307861328125
         ],
         "yaxis": "y"
        },
        {
         "customdata": [
          [
           "Kansas"
          ]
         ],
         "hovertemplate": "state=%{customdata[0]}<br>px=%{x}<br>py=%{y}<extra></extra>",
         "legendgroup": "Kansas",
         "marker": {
          "color": "#FFA15A",
          "symbol": "circle"
         },
         "mode": "markers",
         "name": "Kansas",
         "orientation": "v",
         "showlegend": true,
         "type": "scatter",
         "x": [
          291.08544921875
         ],
         "xaxis": "x",
         "y": [
          -285.2413330078125
         ],
         "yaxis": "y"
        },
        {
         "customdata": [
          [
           "Iowa"
          ]
         ],
         "hovertemplate": "state=%{customdata[0]}<br>px=%{x}<br>py=%{y}<extra></extra>",
         "legendgroup": "Iowa",
         "marker": {
          "color": "#19d3f3",
          "symbol": "circle"
         },
         "mode": "markers",
         "name": "Iowa",
         "orientation": "v",
         "showlegend": true,
         "type": "scatter",
         "x": [
          386.62725830078125
         ],
         "xaxis": "x",
         "y": [
          -433.08349609375
         ],
         "yaxis": "y"
        },
        {
         "customdata": [
          [
           "Louisiana"
          ]
         ],
         "hovertemplate": "state=%{customdata[0]}<br>px=%{x}<br>py=%{y}<extra></extra>",
         "legendgroup": "Louisiana",
         "marker": {
          "color": "#FF6692",
          "symbol": "circle"
         },
         "mode": "markers",
         "name": "Louisiana",
         "orientation": "v",
         "showlegend": true,
         "type": "scatter",
         "x": [
          205.9074249267578
         ],
         "xaxis": "x",
         "y": [
          105.41473388671875
         ],
         "yaxis": "y"
        },
        {
         "customdata": [
          [
           "Alabama"
          ]
         ],
         "hovertemplate": "state=%{customdata[0]}<br>px=%{x}<br>py=%{y}<extra></extra>",
         "legendgroup": "Alabama",
         "marker": {
          "color": "#B6E880",
          "symbol": "circle"
         },
         "mode": "markers",
         "name": "Alabama",
         "orientation": "v",
         "showlegend": true,
         "type": "scatter",
         "x": [
          -151.07879638671875
         ],
         "xaxis": "x",
         "y": [
          110.57076263427734
         ],
         "yaxis": "y"
        },
        {
         "customdata": [
          [
           "Wisconsin"
          ]
         ],
         "hovertemplate": "state=%{customdata[0]}<br>px=%{x}<br>py=%{y}<extra></extra>",
         "legendgroup": "Wisconsin",
         "marker": {
          "color": "#FF97FF",
          "symbol": "circle"
         },
         "mode": "markers",
         "name": "Wisconsin",
         "orientation": "v",
         "showlegend": true,
         "type": "scatter",
         "x": [
          517.456787109375
         ],
         "xaxis": "x",
         "y": [
          534.0513305664062
         ],
         "yaxis": "y"
        },
        {
         "customdata": [
          [
           "Puerto Rico"
          ]
         ],
         "hovertemplate": "state=%{customdata[0]}<br>px=%{x}<br>py=%{y}<extra></extra>",
         "legendgroup": "Puerto Rico",
         "marker": {
          "color": "#FECB52",
          "symbol": "circle"
         },
         "mode": "markers",
         "name": "Puerto Rico",
         "orientation": "v",
         "showlegend": true,
         "type": "scatter",
         "x": [
          151.37954711914062
         ],
         "xaxis": "x",
         "y": [
          214.57553100585938
         ],
         "yaxis": "y"
        },
        {
         "customdata": [
          [
           "Delaware"
          ]
         ],
         "hovertemplate": "state=%{customdata[0]}<br>px=%{x}<br>py=%{y}<extra></extra>",
         "legendgroup": "Delaware",
         "marker": {
          "color": "#636efa",
          "symbol": "circle"
         },
         "mode": "markers",
         "name": "Delaware",
         "orientation": "v",
         "showlegend": true,
         "type": "scatter",
         "x": [
          -116.25594329833984
         ],
         "xaxis": "x",
         "y": [
          -193.4257049560547
         ],
         "yaxis": "y"
        },
        {
         "customdata": [
          [
           "Arkansas"
          ]
         ],
         "hovertemplate": "state=%{customdata[0]}<br>px=%{x}<br>py=%{y}<extra></extra>",
         "legendgroup": "Arkansas",
         "marker": {
          "color": "#EF553B",
          "symbol": "circle"
         },
         "mode": "markers",
         "name": "Arkansas",
         "orientation": "v",
         "showlegend": true,
         "type": "scatter",
         "x": [
          -182.75845336914062
         ],
         "xaxis": "x",
         "y": [
          -29.163005828857422
         ],
         "yaxis": "y"
        },
        {
         "customdata": [
          [
           "Texas"
          ]
         ],
         "hovertemplate": "state=%{customdata[0]}<br>px=%{x}<br>py=%{y}<extra></extra>",
         "legendgroup": "Texas",
         "marker": {
          "color": "#00cc96",
          "symbol": "circle"
         },
         "mode": "markers",
         "name": "Texas",
         "orientation": "v",
         "showlegend": true,
         "type": "scatter",
         "x": [
          333.38275146484375
         ],
         "xaxis": "x",
         "y": [
          -68.29276275634766
         ],
         "yaxis": "y"
        },
        {
         "customdata": [
          [
           "Pennsylvania"
          ]
         ],
         "hovertemplate": "state=%{customdata[0]}<br>px=%{x}<br>py=%{y}<extra></extra>",
         "legendgroup": "Pennsylvania",
         "marker": {
          "color": "#ab63fa",
          "symbol": "circle"
         },
         "mode": "markers",
         "name": "Pennsylvania",
         "orientation": "v",
         "showlegend": true,
         "type": "scatter",
         "x": [
          -230.68270874023438
         ],
         "xaxis": "x",
         "y": [
          -246.6220703125
         ],
         "yaxis": "y"
        },
        {
         "customdata": [
          [
           "Hawaii"
          ]
         ],
         "hovertemplate": "state=%{customdata[0]}<br>px=%{x}<br>py=%{y}<extra></extra>",
         "legendgroup": "Hawaii",
         "marker": {
          "color": "#FFA15A",
          "symbol": "circle"
         },
         "mode": "markers",
         "name": "Hawaii",
         "orientation": "v",
         "showlegend": true,
         "type": "scatter",
         "x": [
          268.83172607421875
         ],
         "xaxis": "x",
         "y": [
          -279.0816955566406
         ],
         "yaxis": "y"
        },
        {
         "customdata": [
          [
           "North Carolina"
          ]
         ],
         "hovertemplate": "state=%{customdata[0]}<br>px=%{x}<br>py=%{y}<extra></extra>",
         "legendgroup": "North Carolina",
         "marker": {
          "color": "#19d3f3",
          "symbol": "circle"
         },
         "mode": "markers",
         "name": "North Carolina",
         "orientation": "v",
         "showlegend": true,
         "type": "scatter",
         "x": [
          101.3473892211914
         ],
         "xaxis": "x",
         "y": [
          208.12661743164062
         ],
         "yaxis": "y"
        },
        {
         "customdata": [
          [
           "South Carolina"
          ]
         ],
         "hovertemplate": "state=%{customdata[0]}<br>px=%{x}<br>py=%{y}<extra></extra>",
         "legendgroup": "South Carolina",
         "marker": {
          "color": "#FF6692",
          "symbol": "circle"
         },
         "mode": "markers",
         "name": "South Carolina",
         "orientation": "v",
         "showlegend": true,
         "type": "scatter",
         "x": [
          254.17337036132812
         ],
         "xaxis": "x",
         "y": [
          253.1158905029297
         ],
         "yaxis": "y"
        },
        {
         "customdata": [
          [
           "Ohio"
          ]
         ],
         "hovertemplate": "state=%{customdata[0]}<br>px=%{x}<br>py=%{y}<extra></extra>",
         "legendgroup": "Ohio",
         "marker": {
          "color": "#B6E880",
          "symbol": "circle"
         },
         "mode": "markers",
         "name": "Ohio",
         "orientation": "v",
         "showlegend": true,
         "type": "scatter",
         "x": [
          -188.18443298339844
         ],
         "xaxis": "x",
         "y": [
          151.38873291015625
         ],
         "yaxis": "y"
        },
        {
         "customdata": [
          [
           "Tennessee"
          ]
         ],
         "hovertemplate": "state=%{customdata[0]}<br>px=%{x}<br>py=%{y}<extra></extra>",
         "legendgroup": "Tennessee",
         "marker": {
          "color": "#FF97FF",
          "symbol": "circle"
         },
         "mode": "markers",
         "name": "Tennessee",
         "orientation": "v",
         "showlegend": true,
         "type": "scatter",
         "x": [
          159.50965881347656
         ],
         "xaxis": "x",
         "y": [
          115.64142608642578
         ],
         "yaxis": "y"
        },
        {
         "customdata": [
          [
           "Nevada"
          ]
         ],
         "hovertemplate": "state=%{customdata[0]}<br>px=%{x}<br>py=%{y}<extra></extra>",
         "legendgroup": "Nevada",
         "marker": {
          "color": "#FECB52",
          "symbol": "circle"
         },
         "mode": "markers",
         "name": "Nevada",
         "orientation": "v",
         "showlegend": true,
         "type": "scatter",
         "x": [
          -292.226806640625
         ],
         "xaxis": "x",
         "y": [
          -330.96087646484375
         ],
         "yaxis": "y"
        },
        {
         "customdata": [
          [
           "Utah"
          ]
         ],
         "hovertemplate": "state=%{customdata[0]}<br>px=%{x}<br>py=%{y}<extra></extra>",
         "legendgroup": "Utah",
         "marker": {
          "color": "#636efa",
          "symbol": "circle"
         },
         "mode": "markers",
         "name": "Utah",
         "orientation": "v",
         "showlegend": true,
         "type": "scatter",
         "x": [
          -112.92096710205078
         ],
         "xaxis": "x",
         "y": [
          -141.2620391845703
         ],
         "yaxis": "y"
        },
        {
         "customdata": [
          [
           "California"
          ]
         ],
         "hovertemplate": "state=%{customdata[0]}<br>px=%{x}<br>py=%{y}<extra></extra>",
         "legendgroup": "California",
         "marker": {
          "color": "#EF553B",
          "symbol": "circle"
         },
         "mode": "markers",
         "name": "California",
         "orientation": "v",
         "showlegend": true,
         "type": "scatter",
         "x": [
          -480.68280029296875
         ],
         "xaxis": "x",
         "y": [
          -477.513671875
         ],
         "yaxis": "y"
        },
        {
         "customdata": [
          [
           "Oklahoma"
          ]
         ],
         "hovertemplate": "state=%{customdata[0]}<br>px=%{x}<br>py=%{y}<extra></extra>",
         "legendgroup": "Oklahoma",
         "marker": {
          "color": "#00cc96",
          "symbol": "circle"
         },
         "mode": "markers",
         "name": "Oklahoma",
         "orientation": "v",
         "showlegend": true,
         "type": "scatter",
         "x": [
          -221.55638122558594
         ],
         "xaxis": "x",
         "y": [
          -211.26255798339844
         ],
         "yaxis": "y"
        },
        {
         "customdata": [
          [
           "New York"
          ]
         ],
         "hovertemplate": "state=%{customdata[0]}<br>px=%{x}<br>py=%{y}<extra></extra>",
         "legendgroup": "New York",
         "marker": {
          "color": "#ab63fa",
          "symbol": "circle"
         },
         "mode": "markers",
         "name": "New York",
         "orientation": "v",
         "showlegend": true,
         "type": "scatter",
         "x": [
          223.4499969482422
         ],
         "xaxis": "x",
         "y": [
          -180.7259521484375
         ],
         "yaxis": "y"
        },
        {
         "customdata": [
          [
           "Nebraska"
          ]
         ],
         "hovertemplate": "state=%{customdata[0]}<br>px=%{x}<br>py=%{y}<extra></extra>",
         "legendgroup": "Nebraska",
         "marker": {
          "color": "#FFA15A",
          "symbol": "circle"
         },
         "mode": "markers",
         "name": "Nebraska",
         "orientation": "v",
         "showlegend": true,
         "type": "scatter",
         "x": [
          -294.0962219238281
         ],
         "xaxis": "x",
         "y": [
          267.8756103515625
         ],
         "yaxis": "y"
        },
        {
         "customdata": [
          [
           "New Mexico"
          ]
         ],
         "hovertemplate": "state=%{customdata[0]}<br>px=%{x}<br>py=%{y}<extra></extra>",
         "legendgroup": "New Mexico",
         "marker": {
          "color": "#19d3f3",
          "symbol": "circle"
         },
         "mode": "markers",
         "name": "New Mexico",
         "orientation": "v",
         "showlegend": true,
         "type": "scatter",
         "x": [
          -397.66925048828125
         ],
         "xaxis": "x",
         "y": [
          377.556396484375
         ],
         "yaxis": "y"
        },
        {
         "customdata": [
          [
           "Wyoming"
          ]
         ],
         "hovertemplate": "state=%{customdata[0]}<br>px=%{x}<br>py=%{y}<extra></extra>",
         "legendgroup": "Wyoming",
         "marker": {
          "color": "#FF6692",
          "symbol": "circle"
         },
         "mode": "markers",
         "name": "Wyoming",
         "orientation": "v",
         "showlegend": true,
         "type": "scatter",
         "x": [
          -319.92218017578125
         ],
         "xaxis": "x",
         "y": [
          -98.83281707763672
         ],
         "yaxis": "y"
        },
        {
         "customdata": [
          [
           "Virginia"
          ]
         ],
         "hovertemplate": "state=%{customdata[0]}<br>px=%{x}<br>py=%{y}<extra></extra>",
         "legendgroup": "Virginia",
         "marker": {
          "color": "#B6E880",
          "symbol": "circle"
         },
         "mode": "markers",
         "name": "Virginia",
         "orientation": "v",
         "showlegend": true,
         "type": "scatter",
         "x": [
          148.22987365722656
         ],
         "xaxis": "x",
         "y": [
          -33.10296630859375
         ],
         "yaxis": "y"
        },
        {
         "customdata": [
          [
           "North Dakota"
          ]
         ],
         "hovertemplate": "state=%{customdata[0]}<br>px=%{x}<br>py=%{y}<extra></extra>",
         "legendgroup": "North Dakota",
         "marker": {
          "color": "#FF97FF",
          "symbol": "circle"
         },
         "mode": "markers",
         "name": "North Dakota",
         "orientation": "v",
         "showlegend": true,
         "type": "scatter",
         "x": [
          101.29730987548828
         ],
         "xaxis": "x",
         "y": [
          270.33917236328125
         ],
         "yaxis": "y"
        },
        {
         "customdata": [
          [
           "Minnesota"
          ]
         ],
         "hovertemplate": "state=%{customdata[0]}<br>px=%{x}<br>py=%{y}<extra></extra>",
         "legendgroup": "Minnesota",
         "marker": {
          "color": "#FECB52",
          "symbol": "circle"
         },
         "mode": "markers",
         "name": "Minnesota",
         "orientation": "v",
         "showlegend": true,
         "type": "scatter",
         "x": [
          109.48262786865234
         ],
         "xaxis": "x",
         "y": [
          45.74870681762695
         ],
         "yaxis": "y"
        },
        {
         "customdata": [
          [
           "Maine"
          ]
         ],
         "hovertemplate": "state=%{customdata[0]}<br>px=%{x}<br>py=%{y}<extra></extra>",
         "legendgroup": "Maine",
         "marker": {
          "color": "#636efa",
          "symbol": "circle"
         },
         "mode": "markers",
         "name": "Maine",
         "orientation": "v",
         "showlegend": true,
         "type": "scatter",
         "x": [
          -50.20868682861328
         ],
         "xaxis": "x",
         "y": [
          163.75457763671875
         ],
         "yaxis": "y"
        },
        {
         "customdata": [
          [
           "Washington"
          ]
         ],
         "hovertemplate": "state=%{customdata[0]}<br>px=%{x}<br>py=%{y}<extra></extra>",
         "legendgroup": "Washington",
         "marker": {
          "color": "#EF553B",
          "symbol": "circle"
         },
         "mode": "markers",
         "name": "Washington",
         "orientation": "v",
         "showlegend": true,
         "type": "scatter",
         "x": [
          -143.87173461914062
         ],
         "xaxis": "x",
         "y": [
          52.79196548461914
         ],
         "yaxis": "y"
        }
       ],
       "layout": {
        "autosize": false,
        "height": 2000,
        "template": {
         "data": {
          "bar": [
           {
            "error_x": {
             "color": "#2a3f5f"
            },
            "error_y": {
             "color": "#2a3f5f"
            },
            "marker": {
             "line": {
              "color": "#E5ECF6",
              "width": 0.5
             },
             "pattern": {
              "fillmode": "overlay",
              "size": 10,
              "solidity": 0.2
             }
            },
            "type": "bar"
           }
          ],
          "barpolar": [
           {
            "marker": {
             "line": {
              "color": "#E5ECF6",
              "width": 0.5
             },
             "pattern": {
              "fillmode": "overlay",
              "size": 10,
              "solidity": 0.2
             }
            },
            "type": "barpolar"
           }
          ],
          "carpet": [
           {
            "aaxis": {
             "endlinecolor": "#2a3f5f",
             "gridcolor": "white",
             "linecolor": "white",
             "minorgridcolor": "white",
             "startlinecolor": "#2a3f5f"
            },
            "baxis": {
             "endlinecolor": "#2a3f5f",
             "gridcolor": "white",
             "linecolor": "white",
             "minorgridcolor": "white",
             "startlinecolor": "#2a3f5f"
            },
            "type": "carpet"
           }
          ],
          "choropleth": [
           {
            "colorbar": {
             "outlinewidth": 0,
             "ticks": ""
            },
            "type": "choropleth"
           }
          ],
          "contour": [
           {
            "colorbar": {
             "outlinewidth": 0,
             "ticks": ""
            },
            "colorscale": [
             [
              0,
              "#0d0887"
             ],
             [
              0.1111111111111111,
              "#46039f"
             ],
             [
              0.2222222222222222,
              "#7201a8"
             ],
             [
              0.3333333333333333,
              "#9c179e"
             ],
             [
              0.4444444444444444,
              "#bd3786"
             ],
             [
              0.5555555555555556,
              "#d8576b"
             ],
             [
              0.6666666666666666,
              "#ed7953"
             ],
             [
              0.7777777777777778,
              "#fb9f3a"
             ],
             [
              0.8888888888888888,
              "#fdca26"
             ],
             [
              1,
              "#f0f921"
             ]
            ],
            "type": "contour"
           }
          ],
          "contourcarpet": [
           {
            "colorbar": {
             "outlinewidth": 0,
             "ticks": ""
            },
            "type": "contourcarpet"
           }
          ],
          "heatmap": [
           {
            "colorbar": {
             "outlinewidth": 0,
             "ticks": ""
            },
            "colorscale": [
             [
              0,
              "#0d0887"
             ],
             [
              0.1111111111111111,
              "#46039f"
             ],
             [
              0.2222222222222222,
              "#7201a8"
             ],
             [
              0.3333333333333333,
              "#9c179e"
             ],
             [
              0.4444444444444444,
              "#bd3786"
             ],
             [
              0.5555555555555556,
              "#d8576b"
             ],
             [
              0.6666666666666666,
              "#ed7953"
             ],
             [
              0.7777777777777778,
              "#fb9f3a"
             ],
             [
              0.8888888888888888,
              "#fdca26"
             ],
             [
              1,
              "#f0f921"
             ]
            ],
            "type": "heatmap"
           }
          ],
          "heatmapgl": [
           {
            "colorbar": {
             "outlinewidth": 0,
             "ticks": ""
            },
            "colorscale": [
             [
              0,
              "#0d0887"
             ],
             [
              0.1111111111111111,
              "#46039f"
             ],
             [
              0.2222222222222222,
              "#7201a8"
             ],
             [
              0.3333333333333333,
              "#9c179e"
             ],
             [
              0.4444444444444444,
              "#bd3786"
             ],
             [
              0.5555555555555556,
              "#d8576b"
             ],
             [
              0.6666666666666666,
              "#ed7953"
             ],
             [
              0.7777777777777778,
              "#fb9f3a"
             ],
             [
              0.8888888888888888,
              "#fdca26"
             ],
             [
              1,
              "#f0f921"
             ]
            ],
            "type": "heatmapgl"
           }
          ],
          "histogram": [
           {
            "marker": {
             "pattern": {
              "fillmode": "overlay",
              "size": 10,
              "solidity": 0.2
             }
            },
            "type": "histogram"
           }
          ],
          "histogram2d": [
           {
            "colorbar": {
             "outlinewidth": 0,
             "ticks": ""
            },
            "colorscale": [
             [
              0,
              "#0d0887"
             ],
             [
              0.1111111111111111,
              "#46039f"
             ],
             [
              0.2222222222222222,
              "#7201a8"
             ],
             [
              0.3333333333333333,
              "#9c179e"
             ],
             [
              0.4444444444444444,
              "#bd3786"
             ],
             [
              0.5555555555555556,
              "#d8576b"
             ],
             [
              0.6666666666666666,
              "#ed7953"
             ],
             [
              0.7777777777777778,
              "#fb9f3a"
             ],
             [
              0.8888888888888888,
              "#fdca26"
             ],
             [
              1,
              "#f0f921"
             ]
            ],
            "type": "histogram2d"
           }
          ],
          "histogram2dcontour": [
           {
            "colorbar": {
             "outlinewidth": 0,
             "ticks": ""
            },
            "colorscale": [
             [
              0,
              "#0d0887"
             ],
             [
              0.1111111111111111,
              "#46039f"
             ],
             [
              0.2222222222222222,
              "#7201a8"
             ],
             [
              0.3333333333333333,
              "#9c179e"
             ],
             [
              0.4444444444444444,
              "#bd3786"
             ],
             [
              0.5555555555555556,
              "#d8576b"
             ],
             [
              0.6666666666666666,
              "#ed7953"
             ],
             [
              0.7777777777777778,
              "#fb9f3a"
             ],
             [
              0.8888888888888888,
              "#fdca26"
             ],
             [
              1,
              "#f0f921"
             ]
            ],
            "type": "histogram2dcontour"
           }
          ],
          "mesh3d": [
           {
            "colorbar": {
             "outlinewidth": 0,
             "ticks": ""
            },
            "type": "mesh3d"
           }
          ],
          "parcoords": [
           {
            "line": {
             "colorbar": {
              "outlinewidth": 0,
              "ticks": ""
             }
            },
            "type": "parcoords"
           }
          ],
          "pie": [
           {
            "automargin": true,
            "type": "pie"
           }
          ],
          "scatter": [
           {
            "fillpattern": {
             "fillmode": "overlay",
             "size": 10,
             "solidity": 0.2
            },
            "type": "scatter"
           }
          ],
          "scatter3d": [
           {
            "line": {
             "colorbar": {
              "outlinewidth": 0,
              "ticks": ""
             }
            },
            "marker": {
             "colorbar": {
              "outlinewidth": 0,
              "ticks": ""
             }
            },
            "type": "scatter3d"
           }
          ],
          "scattercarpet": [
           {
            "marker": {
             "colorbar": {
              "outlinewidth": 0,
              "ticks": ""
             }
            },
            "type": "scattercarpet"
           }
          ],
          "scattergeo": [
           {
            "marker": {
             "colorbar": {
              "outlinewidth": 0,
              "ticks": ""
             }
            },
            "type": "scattergeo"
           }
          ],
          "scattergl": [
           {
            "marker": {
             "colorbar": {
              "outlinewidth": 0,
              "ticks": ""
             }
            },
            "type": "scattergl"
           }
          ],
          "scattermapbox": [
           {
            "marker": {
             "colorbar": {
              "outlinewidth": 0,
              "ticks": ""
             }
            },
            "type": "scattermapbox"
           }
          ],
          "scatterpolar": [
           {
            "marker": {
             "colorbar": {
              "outlinewidth": 0,
              "ticks": ""
             }
            },
            "type": "scatterpolar"
           }
          ],
          "scatterpolargl": [
           {
            "marker": {
             "colorbar": {
              "outlinewidth": 0,
              "ticks": ""
             }
            },
            "type": "scatterpolargl"
           }
          ],
          "scatterternary": [
           {
            "marker": {
             "colorbar": {
              "outlinewidth": 0,
              "ticks": ""
             }
            },
            "type": "scatterternary"
           }
          ],
          "surface": [
           {
            "colorbar": {
             "outlinewidth": 0,
             "ticks": ""
            },
            "colorscale": [
             [
              0,
              "#0d0887"
             ],
             [
              0.1111111111111111,
              "#46039f"
             ],
             [
              0.2222222222222222,
              "#7201a8"
             ],
             [
              0.3333333333333333,
              "#9c179e"
             ],
             [
              0.4444444444444444,
              "#bd3786"
             ],
             [
              0.5555555555555556,
              "#d8576b"
             ],
             [
              0.6666666666666666,
              "#ed7953"
             ],
             [
              0.7777777777777778,
              "#fb9f3a"
             ],
             [
              0.8888888888888888,
              "#fdca26"
             ],
             [
              1,
              "#f0f921"
             ]
            ],
            "type": "surface"
           }
          ],
          "table": [
           {
            "cells": {
             "fill": {
              "color": "#EBF0F8"
             },
             "line": {
              "color": "white"
             }
            },
            "header": {
             "fill": {
              "color": "#C8D4E3"
             },
             "line": {
              "color": "white"
             }
            },
            "type": "table"
           }
          ]
         },
         "layout": {
          "annotationdefaults": {
           "arrowcolor": "#2a3f5f",
           "arrowhead": 0,
           "arrowwidth": 1
          },
          "autotypenumbers": "strict",
          "coloraxis": {
           "colorbar": {
            "outlinewidth": 0,
            "ticks": ""
           }
          },
          "colorscale": {
           "diverging": [
            [
             0,
             "#8e0152"
            ],
            [
             0.1,
             "#c51b7d"
            ],
            [
             0.2,
             "#de77ae"
            ],
            [
             0.3,
             "#f1b6da"
            ],
            [
             0.4,
             "#fde0ef"
            ],
            [
             0.5,
             "#f7f7f7"
            ],
            [
             0.6,
             "#e6f5d0"
            ],
            [
             0.7,
             "#b8e186"
            ],
            [
             0.8,
             "#7fbc41"
            ],
            [
             0.9,
             "#4d9221"
            ],
            [
             1,
             "#276419"
            ]
           ],
           "sequential": [
            [
             0,
             "#0d0887"
            ],
            [
             0.1111111111111111,
             "#46039f"
            ],
            [
             0.2222222222222222,
             "#7201a8"
            ],
            [
             0.3333333333333333,
             "#9c179e"
            ],
            [
             0.4444444444444444,
             "#bd3786"
            ],
            [
             0.5555555555555556,
             "#d8576b"
            ],
            [
             0.6666666666666666,
             "#ed7953"
            ],
            [
             0.7777777777777778,
             "#fb9f3a"
            ],
            [
             0.8888888888888888,
             "#fdca26"
            ],
            [
             1,
             "#f0f921"
            ]
           ],
           "sequentialminus": [
            [
             0,
             "#0d0887"
            ],
            [
             0.1111111111111111,
             "#46039f"
            ],
            [
             0.2222222222222222,
             "#7201a8"
            ],
            [
             0.3333333333333333,
             "#9c179e"
            ],
            [
             0.4444444444444444,
             "#bd3786"
            ],
            [
             0.5555555555555556,
             "#d8576b"
            ],
            [
             0.6666666666666666,
             "#ed7953"
            ],
            [
             0.7777777777777778,
             "#fb9f3a"
            ],
            [
             0.8888888888888888,
             "#fdca26"
            ],
            [
             1,
             "#f0f921"
            ]
           ]
          },
          "colorway": [
           "#636efa",
           "#EF553B",
           "#00cc96",
           "#ab63fa",
           "#FFA15A",
           "#19d3f3",
           "#FF6692",
           "#B6E880",
           "#FF97FF",
           "#FECB52"
          ],
          "font": {
           "color": "#2a3f5f"
          },
          "geo": {
           "bgcolor": "white",
           "lakecolor": "white",
           "landcolor": "#E5ECF6",
           "showlakes": true,
           "showland": true,
           "subunitcolor": "white"
          },
          "hoverlabel": {
           "align": "left"
          },
          "hovermode": "closest",
          "mapbox": {
           "style": "light"
          },
          "paper_bgcolor": "white",
          "plot_bgcolor": "#E5ECF6",
          "polar": {
           "angularaxis": {
            "gridcolor": "white",
            "linecolor": "white",
            "ticks": ""
           },
           "bgcolor": "#E5ECF6",
           "radialaxis": {
            "gridcolor": "white",
            "linecolor": "white",
            "ticks": ""
           }
          },
          "scene": {
           "xaxis": {
            "backgroundcolor": "#E5ECF6",
            "gridcolor": "white",
            "gridwidth": 2,
            "linecolor": "white",
            "showbackground": true,
            "ticks": "",
            "zerolinecolor": "white"
           },
           "yaxis": {
            "backgroundcolor": "#E5ECF6",
            "gridcolor": "white",
            "gridwidth": 2,
            "linecolor": "white",
            "showbackground": true,
            "ticks": "",
            "zerolinecolor": "white"
           },
           "zaxis": {
            "backgroundcolor": "#E5ECF6",
            "gridcolor": "white",
            "gridwidth": 2,
            "linecolor": "white",
            "showbackground": true,
            "ticks": "",
            "zerolinecolor": "white"
           }
          },
          "shapedefaults": {
           "line": {
            "color": "#2a3f5f"
           }
          },
          "ternary": {
           "aaxis": {
            "gridcolor": "white",
            "linecolor": "white",
            "ticks": ""
           },
           "baxis": {
            "gridcolor": "white",
            "linecolor": "white",
            "ticks": ""
           },
           "bgcolor": "#E5ECF6",
           "caxis": {
            "gridcolor": "white",
            "linecolor": "white",
            "ticks": ""
           }
          },
          "title": {
           "x": 0.05
          },
          "xaxis": {
           "automargin": true,
           "gridcolor": "white",
           "linecolor": "white",
           "ticks": "",
           "title": {
            "standoff": 15
           },
           "zerolinecolor": "white",
           "zerolinewidth": 2
          },
          "yaxis": {
           "automargin": true,
           "gridcolor": "white",
           "linecolor": "white",
           "ticks": "",
           "title": {
            "standoff": 15
           },
           "zerolinecolor": "white",
           "zerolinewidth": 2
          }
         }
        },
        "width": 2000
       }
      },
      "text/html": [
       "<div>                            <div id=\"844c37ad-cf5e-41cd-99e9-a8cbb87af303\" class=\"plotly-graph-div\" style=\"height:2000px; width:2000px;\"></div>            <script type=\"text/javascript\">                require([\"plotly\"], function(Plotly) {                    window.PLOTLYENV=window.PLOTLYENV || {};                                    if (document.getElementById(\"844c37ad-cf5e-41cd-99e9-a8cbb87af303\")) {                    Plotly.newPlot(                        \"844c37ad-cf5e-41cd-99e9-a8cbb87af303\",                        [{\"colorscale\":[[0.0,\"rgb(255,255,255)\"],[0.125,\"rgb(240,240,240)\"],[0.25,\"rgb(217,217,217)\"],[0.375,\"rgb(189,189,189)\"],[0.5,\"rgb(150,150,150)\"],[0.625,\"rgb(115,115,115)\"],[0.75,\"rgb(82,82,82)\"],[0.875,\"rgb(37,37,37)\"],[1.0,\"rgb(0,0,0)\"]],\"opacity\":0.4,\"showscale\":false,\"x\":[-430.0261190795899,-143.71015594482435,142.60580718994117,428.9217703247067],\"y\":[-422.3300711059571,-140.27355621337898,141.7829586791991,423.8394735717772],\"z\":[[3.0,1.0,1.0,2.0],[2.0,7.0,8.0,1.0],[2.0,6.0,8.0,0.0],[2.0,2.0,1.0,2.0]],\"type\":\"contour\"},{\"customdata\":[[\"Connecticut\"]],\"hovertemplate\":\"state=%{customdata[0]}<br>px=%{x}<br>py=%{y}<extra></extra>\",\"legendgroup\":\"Connecticut\",\"marker\":{\"color\":\"#636efa\",\"symbol\":\"circle\"},\"mode\":\"markers\",\"name\":\"Connecticut\",\"orientation\":\"v\",\"showlegend\":true,\"x\":[136.37936401367188],\"xaxis\":\"x\",\"y\":[-259.17816162109375],\"yaxis\":\"y\",\"type\":\"scatter\"},{\"customdata\":[[\"Georgia\"]],\"hovertemplate\":\"state=%{customdata[0]}<br>px=%{x}<br>py=%{y}<extra></extra>\",\"legendgroup\":\"Georgia\",\"marker\":{\"color\":\"#EF553B\",\"symbol\":\"circle\"},\"mode\":\"markers\",\"name\":\"Georgia\",\"orientation\":\"v\",\"showlegend\":true,\"x\":[166.7525634765625],\"xaxis\":\"x\",\"y\":[-172.26495361328125],\"yaxis\":\"y\",\"type\":\"scatter\"},{\"customdata\":[[\"Alaska\"]],\"hovertemplate\":\"state=%{customdata[0]}<br>px=%{x}<br>py=%{y}<extra></extra>\",\"legendgroup\":\"Alaska\",\"marker\":{\"color\":\"#00cc96\",\"symbol\":\"circle\"},\"mode\":\"markers\",\"name\":\"Alaska\",\"orientation\":\"v\",\"showlegend\":true,\"x\":[-216.45388793945312],\"xaxis\":\"x\",\"y\":[213.43325805664062],\"yaxis\":\"y\",\"type\":\"scatter\"},{\"customdata\":[[\"Arizona\"]],\"hovertemplate\":\"state=%{customdata[0]}<br>px=%{x}<br>py=%{y}<extra></extra>\",\"legendgroup\":\"Arizona\",\"marker\":{\"color\":\"#ab63fa\",\"symbol\":\"circle\"},\"mode\":\"markers\",\"name\":\"Arizona\",\"orientation\":\"v\",\"showlegend\":true,\"x\":[-296.1462097167969],\"xaxis\":\"x\",\"y\":[224.77474975585938],\"yaxis\":\"y\",\"type\":\"scatter\"},{\"customdata\":[[\"New Jersey\"]],\"hovertemplate\":\"state=%{customdata[0]}<br>px=%{x}<br>py=%{y}<extra></extra>\",\"legendgroup\":\"New Jersey\",\"marker\":{\"color\":\"#FFA15A\",\"symbol\":\"circle\"},\"mode\":\"markers\",\"name\":\"New Jersey\",\"orientation\":\"v\",\"showlegend\":true,\"x\":[-114.5360336303711],\"xaxis\":\"x\",\"y\":[317.8487548828125],\"yaxis\":\"y\",\"type\":\"scatter\"},{\"customdata\":[[\"Rhode Island\"]],\"hovertemplate\":\"state=%{customdata[0]}<br>px=%{x}<br>py=%{y}<extra></extra>\",\"legendgroup\":\"Rhode Island\",\"marker\":{\"color\":\"#19d3f3\",\"symbol\":\"circle\"},\"mode\":\"markers\",\"name\":\"Rhode Island\",\"orientation\":\"v\",\"showlegend\":true,\"x\":[-207.6906280517578],\"xaxis\":\"x\",\"y\":[-297.5655517578125],\"yaxis\":\"y\",\"type\":\"scatter\"},{\"customdata\":[[\"Montana\"]],\"hovertemplate\":\"state=%{customdata[0]}<br>px=%{x}<br>py=%{y}<extra></extra>\",\"legendgroup\":\"Montana\",\"marker\":{\"color\":\"#FF6692\",\"symbol\":\"circle\"},\"mode\":\"markers\",\"name\":\"Montana\",\"orientation\":\"v\",\"showlegend\":true,\"x\":[-348.9671630859375],\"xaxis\":\"x\",\"y\":[333.49993896484375],\"yaxis\":\"y\",\"type\":\"scatter\"},{\"customdata\":[[\"Florida\"]],\"hovertemplate\":\"state=%{customdata[0]}<br>px=%{x}<br>py=%{y}<extra></extra>\",\"legendgroup\":\"Florida\",\"marker\":{\"color\":\"#B6E880\",\"symbol\":\"circle\"},\"mode\":\"markers\",\"name\":\"Florida\",\"orientation\":\"v\",\"showlegend\":true,\"x\":[272.44622802734375],\"xaxis\":\"x\",\"y\":[162.7859344482422],\"yaxis\":\"y\",\"type\":\"scatter\"},{\"customdata\":[[\"Colorado\"]],\"hovertemplate\":\"state=%{customdata[0]}<br>px=%{x}<br>py=%{y}<extra></extra>\",\"legendgroup\":\"Colorado\",\"marker\":{\"color\":\"#FF97FF\",\"symbol\":\"circle\"},\"mode\":\"markers\",\"name\":\"Colorado\",\"orientation\":\"v\",\"showlegend\":true,\"x\":[206.2697296142578],\"xaxis\":\"x\",\"y\":[91.46121215820312],\"yaxis\":\"y\",\"type\":\"scatter\"},{\"customdata\":[[\"South Dakota\"]],\"hovertemplate\":\"state=%{customdata[0]}<br>px=%{x}<br>py=%{y}<extra></extra>\",\"legendgroup\":\"South Dakota\",\"marker\":{\"color\":\"#FECB52\",\"symbol\":\"circle\"},\"mode\":\"markers\",\"name\":\"South Dakota\",\"orientation\":\"v\",\"showlegend\":true,\"x\":[280.6435852050781],\"xaxis\":\"x\",\"y\":[-180.18325805664062],\"yaxis\":\"y\",\"type\":\"scatter\"},{\"customdata\":[[\"Vermont\"]],\"hovertemplate\":\"state=%{customdata[0]}<br>px=%{x}<br>py=%{y}<extra></extra>\",\"legendgroup\":\"Vermont\",\"marker\":{\"color\":\"#636efa\",\"symbol\":\"circle\"},\"mode\":\"markers\",\"name\":\"Vermont\",\"orientation\":\"v\",\"showlegend\":true,\"x\":[-302.11932373046875],\"xaxis\":\"x\",\"y\":[-163.8579559326172],\"yaxis\":\"y\",\"type\":\"scatter\"},{\"customdata\":[[\"Maryland\"]],\"hovertemplate\":\"state=%{customdata[0]}<br>px=%{x}<br>py=%{y}<extra></extra>\",\"legendgroup\":\"Maryland\",\"marker\":{\"color\":\"#EF553B\",\"symbol\":\"circle\"},\"mode\":\"markers\",\"name\":\"Maryland\",\"orientation\":\"v\",\"showlegend\":true,\"x\":[-108.2593002319336],\"xaxis\":\"x\",\"y\":[166.5320587158203],\"yaxis\":\"y\",\"type\":\"scatter\"},{\"customdata\":[[\"Idaho\"]],\"hovertemplate\":\"state=%{customdata[0]}<br>px=%{x}<br>py=%{y}<extra></extra>\",\"legendgroup\":\"Idaho\",\"marker\":{\"color\":\"#00cc96\",\"symbol\":\"circle\"},\"mode\":\"markers\",\"name\":\"Idaho\",\"orientation\":\"v\",\"showlegend\":true,\"x\":[254.44607543945312],\"xaxis\":\"x\",\"y\":[212.99069213867188],\"yaxis\":\"y\",\"type\":\"scatter\"},{\"customdata\":[[\"West Virginia\"]],\"hovertemplate\":\"state=%{customdata[0]}<br>px=%{x}<br>py=%{y}<extra></extra>\",\"legendgroup\":\"West Virginia\",\"marker\":{\"color\":\"#ab63fa\",\"symbol\":\"circle\"},\"mode\":\"markers\",\"name\":\"West Virginia\",\"orientation\":\"v\",\"showlegend\":true,\"x\":[115.63385772705078],\"xaxis\":\"x\",\"y\":[-362.07177734375],\"yaxis\":\"y\",\"type\":\"scatter\"},{\"customdata\":[[\"District of Columbia\"]],\"hovertemplate\":\"state=%{customdata[0]}<br>px=%{x}<br>py=%{y}<extra></extra>\",\"legendgroup\":\"District of Columbia\",\"marker\":{\"color\":\"#FFA15A\",\"symbol\":\"circle\"},\"mode\":\"markers\",\"name\":\"District of Columbia\",\"orientation\":\"v\",\"showlegend\":true,\"x\":[-92.19449615478516],\"xaxis\":\"x\",\"y\":[-43.587432861328125],\"yaxis\":\"y\",\"type\":\"scatter\"},{\"customdata\":[[\"Massachusetts\"]],\"hovertemplate\":\"state=%{customdata[0]}<br>px=%{x}<br>py=%{y}<extra></extra>\",\"legendgroup\":\"Massachusetts\",\"marker\":{\"color\":\"#19d3f3\",\"symbol\":\"circle\"},\"mode\":\"markers\",\"name\":\"Massachusetts\",\"orientation\":\"v\",\"showlegend\":true,\"x\":[285.06268310546875],\"xaxis\":\"x\",\"y\":[285.63018798828125],\"yaxis\":\"y\",\"type\":\"scatter\"},{\"customdata\":[[\"Missouri\"]],\"hovertemplate\":\"state=%{customdata[0]}<br>px=%{x}<br>py=%{y}<extra></extra>\",\"legendgroup\":\"Missouri\",\"marker\":{\"color\":\"#FF6692\",\"symbol\":\"circle\"},\"mode\":\"markers\",\"name\":\"Missouri\",\"orientation\":\"v\",\"showlegend\":true,\"x\":[198.9584197998047],\"xaxis\":\"x\",\"y\":[-186.1807861328125],\"yaxis\":\"y\",\"type\":\"scatter\"},{\"customdata\":[[\"Indiana\"]],\"hovertemplate\":\"state=%{customdata[0]}<br>px=%{x}<br>py=%{y}<extra></extra>\",\"legendgroup\":\"Indiana\",\"marker\":{\"color\":\"#B6E880\",\"symbol\":\"circle\"},\"mode\":\"markers\",\"name\":\"Indiana\",\"orientation\":\"v\",\"showlegend\":true,\"x\":[-85.42716979980469],\"xaxis\":\"x\",\"y\":[312.8807067871094],\"yaxis\":\"y\",\"type\":\"scatter\"},{\"customdata\":[[\"Illinois\"]],\"hovertemplate\":\"state=%{customdata[0]}<br>px=%{x}<br>py=%{y}<extra></extra>\",\"legendgroup\":\"Illinois\",\"marker\":{\"color\":\"#FF97FF\",\"symbol\":\"circle\"},\"mode\":\"markers\",\"name\":\"Illinois\",\"orientation\":\"v\",\"showlegend\":true,\"x\":[-221.50283813476562],\"xaxis\":\"x\",\"y\":[-159.22833251953125],\"yaxis\":\"y\",\"type\":\"scatter\"},{\"customdata\":[[\"New Hampshire\"]],\"hovertemplate\":\"state=%{customdata[0]}<br>px=%{x}<br>py=%{y}<extra></extra>\",\"legendgroup\":\"New Hampshire\",\"marker\":{\"color\":\"#FECB52\",\"symbol\":\"circle\"},\"mode\":\"markers\",\"name\":\"New Hampshire\",\"orientation\":\"v\",\"showlegend\":true,\"x\":[409.97607421875],\"xaxis\":\"x\",\"y\":[388.414794921875],\"yaxis\":\"y\",\"type\":\"scatter\"},{\"customdata\":[[\"Oregon\"]],\"hovertemplate\":\"state=%{customdata[0]}<br>px=%{x}<br>py=%{y}<extra></extra>\",\"legendgroup\":\"Oregon\",\"marker\":{\"color\":\"#636efa\",\"symbol\":\"circle\"},\"mode\":\"markers\",\"name\":\"Oregon\",\"orientation\":\"v\",\"showlegend\":true,\"x\":[36.006629943847656],\"xaxis\":\"x\",\"y\":[274.42266845703125],\"yaxis\":\"y\",\"type\":\"scatter\"},{\"customdata\":[[\"Mississippi\"]],\"hovertemplate\":\"state=%{customdata[0]}<br>px=%{x}<br>py=%{y}<extra></extra>\",\"legendgroup\":\"Mississippi\",\"marker\":{\"color\":\"#EF553B\",\"symbol\":\"circle\"},\"mode\":\"markers\",\"name\":\"Mississippi\",\"orientation\":\"v\",\"showlegend\":true,\"x\":[14.16189956665039],\"xaxis\":\"x\",\"y\":[-87.92139434814453],\"yaxis\":\"y\",\"type\":\"scatter\"},{\"customdata\":[[\"Kentucky\"]],\"hovertemplate\":\"state=%{customdata[0]}<br>px=%{x}<br>py=%{y}<extra></extra>\",\"legendgroup\":\"Kentucky\",\"marker\":{\"color\":\"#00cc96\",\"symbol\":\"circle\"},\"mode\":\"markers\",\"name\":\"Kentucky\",\"orientation\":\"v\",\"showlegend\":true,\"x\":[-370.03375244140625],\"xaxis\":\"x\",\"y\":[-343.4248046875],\"yaxis\":\"y\",\"type\":\"scatter\"},{\"customdata\":[[\"Michigan\"]],\"hovertemplate\":\"state=%{customdata[0]}<br>px=%{x}<br>py=%{y}<extra></extra>\",\"legendgroup\":\"Michigan\",\"marker\":{\"color\":\"#ab63fa\",\"symbol\":\"circle\"},\"mode\":\"markers\",\"name\":\"Michigan\",\"orientation\":\"v\",\"showlegend\":true,\"x\":[22.824317932128906],\"xaxis\":\"x\",\"y\":[-198.59307861328125],\"yaxis\":\"y\",\"type\":\"scatter\"},{\"customdata\":[[\"Kansas\"]],\"hovertemplate\":\"state=%{customdata[0]}<br>px=%{x}<br>py=%{y}<extra></extra>\",\"legendgroup\":\"Kansas\",\"marker\":{\"color\":\"#FFA15A\",\"symbol\":\"circle\"},\"mode\":\"markers\",\"name\":\"Kansas\",\"orientation\":\"v\",\"showlegend\":true,\"x\":[291.08544921875],\"xaxis\":\"x\",\"y\":[-285.2413330078125],\"yaxis\":\"y\",\"type\":\"scatter\"},{\"customdata\":[[\"Iowa\"]],\"hovertemplate\":\"state=%{customdata[0]}<br>px=%{x}<br>py=%{y}<extra></extra>\",\"legendgroup\":\"Iowa\",\"marker\":{\"color\":\"#19d3f3\",\"symbol\":\"circle\"},\"mode\":\"markers\",\"name\":\"Iowa\",\"orientation\":\"v\",\"showlegend\":true,\"x\":[386.62725830078125],\"xaxis\":\"x\",\"y\":[-433.08349609375],\"yaxis\":\"y\",\"type\":\"scatter\"},{\"customdata\":[[\"Louisiana\"]],\"hovertemplate\":\"state=%{customdata[0]}<br>px=%{x}<br>py=%{y}<extra></extra>\",\"legendgroup\":\"Louisiana\",\"marker\":{\"color\":\"#FF6692\",\"symbol\":\"circle\"},\"mode\":\"markers\",\"name\":\"Louisiana\",\"orientation\":\"v\",\"showlegend\":true,\"x\":[205.9074249267578],\"xaxis\":\"x\",\"y\":[105.41473388671875],\"yaxis\":\"y\",\"type\":\"scatter\"},{\"customdata\":[[\"Alabama\"]],\"hovertemplate\":\"state=%{customdata[0]}<br>px=%{x}<br>py=%{y}<extra></extra>\",\"legendgroup\":\"Alabama\",\"marker\":{\"color\":\"#B6E880\",\"symbol\":\"circle\"},\"mode\":\"markers\",\"name\":\"Alabama\",\"orientation\":\"v\",\"showlegend\":true,\"x\":[-151.07879638671875],\"xaxis\":\"x\",\"y\":[110.57076263427734],\"yaxis\":\"y\",\"type\":\"scatter\"},{\"customdata\":[[\"Wisconsin\"]],\"hovertemplate\":\"state=%{customdata[0]}<br>px=%{x}<br>py=%{y}<extra></extra>\",\"legendgroup\":\"Wisconsin\",\"marker\":{\"color\":\"#FF97FF\",\"symbol\":\"circle\"},\"mode\":\"markers\",\"name\":\"Wisconsin\",\"orientation\":\"v\",\"showlegend\":true,\"x\":[517.456787109375],\"xaxis\":\"x\",\"y\":[534.0513305664062],\"yaxis\":\"y\",\"type\":\"scatter\"},{\"customdata\":[[\"Puerto Rico\"]],\"hovertemplate\":\"state=%{customdata[0]}<br>px=%{x}<br>py=%{y}<extra></extra>\",\"legendgroup\":\"Puerto Rico\",\"marker\":{\"color\":\"#FECB52\",\"symbol\":\"circle\"},\"mode\":\"markers\",\"name\":\"Puerto Rico\",\"orientation\":\"v\",\"showlegend\":true,\"x\":[151.37954711914062],\"xaxis\":\"x\",\"y\":[214.57553100585938],\"yaxis\":\"y\",\"type\":\"scatter\"},{\"customdata\":[[\"Delaware\"]],\"hovertemplate\":\"state=%{customdata[0]}<br>px=%{x}<br>py=%{y}<extra></extra>\",\"legendgroup\":\"Delaware\",\"marker\":{\"color\":\"#636efa\",\"symbol\":\"circle\"},\"mode\":\"markers\",\"name\":\"Delaware\",\"orientation\":\"v\",\"showlegend\":true,\"x\":[-116.25594329833984],\"xaxis\":\"x\",\"y\":[-193.4257049560547],\"yaxis\":\"y\",\"type\":\"scatter\"},{\"customdata\":[[\"Arkansas\"]],\"hovertemplate\":\"state=%{customdata[0]}<br>px=%{x}<br>py=%{y}<extra></extra>\",\"legendgroup\":\"Arkansas\",\"marker\":{\"color\":\"#EF553B\",\"symbol\":\"circle\"},\"mode\":\"markers\",\"name\":\"Arkansas\",\"orientation\":\"v\",\"showlegend\":true,\"x\":[-182.75845336914062],\"xaxis\":\"x\",\"y\":[-29.163005828857422],\"yaxis\":\"y\",\"type\":\"scatter\"},{\"customdata\":[[\"Texas\"]],\"hovertemplate\":\"state=%{customdata[0]}<br>px=%{x}<br>py=%{y}<extra></extra>\",\"legendgroup\":\"Texas\",\"marker\":{\"color\":\"#00cc96\",\"symbol\":\"circle\"},\"mode\":\"markers\",\"name\":\"Texas\",\"orientation\":\"v\",\"showlegend\":true,\"x\":[333.38275146484375],\"xaxis\":\"x\",\"y\":[-68.29276275634766],\"yaxis\":\"y\",\"type\":\"scatter\"},{\"customdata\":[[\"Pennsylvania\"]],\"hovertemplate\":\"state=%{customdata[0]}<br>px=%{x}<br>py=%{y}<extra></extra>\",\"legendgroup\":\"Pennsylvania\",\"marker\":{\"color\":\"#ab63fa\",\"symbol\":\"circle\"},\"mode\":\"markers\",\"name\":\"Pennsylvania\",\"orientation\":\"v\",\"showlegend\":true,\"x\":[-230.68270874023438],\"xaxis\":\"x\",\"y\":[-246.6220703125],\"yaxis\":\"y\",\"type\":\"scatter\"},{\"customdata\":[[\"Hawaii\"]],\"hovertemplate\":\"state=%{customdata[0]}<br>px=%{x}<br>py=%{y}<extra></extra>\",\"legendgroup\":\"Hawaii\",\"marker\":{\"color\":\"#FFA15A\",\"symbol\":\"circle\"},\"mode\":\"markers\",\"name\":\"Hawaii\",\"orientation\":\"v\",\"showlegend\":true,\"x\":[268.83172607421875],\"xaxis\":\"x\",\"y\":[-279.0816955566406],\"yaxis\":\"y\",\"type\":\"scatter\"},{\"customdata\":[[\"North Carolina\"]],\"hovertemplate\":\"state=%{customdata[0]}<br>px=%{x}<br>py=%{y}<extra></extra>\",\"legendgroup\":\"North Carolina\",\"marker\":{\"color\":\"#19d3f3\",\"symbol\":\"circle\"},\"mode\":\"markers\",\"name\":\"North Carolina\",\"orientation\":\"v\",\"showlegend\":true,\"x\":[101.3473892211914],\"xaxis\":\"x\",\"y\":[208.12661743164062],\"yaxis\":\"y\",\"type\":\"scatter\"},{\"customdata\":[[\"South Carolina\"]],\"hovertemplate\":\"state=%{customdata[0]}<br>px=%{x}<br>py=%{y}<extra></extra>\",\"legendgroup\":\"South Carolina\",\"marker\":{\"color\":\"#FF6692\",\"symbol\":\"circle\"},\"mode\":\"markers\",\"name\":\"South Carolina\",\"orientation\":\"v\",\"showlegend\":true,\"x\":[254.17337036132812],\"xaxis\":\"x\",\"y\":[253.1158905029297],\"yaxis\":\"y\",\"type\":\"scatter\"},{\"customdata\":[[\"Ohio\"]],\"hovertemplate\":\"state=%{customdata[0]}<br>px=%{x}<br>py=%{y}<extra></extra>\",\"legendgroup\":\"Ohio\",\"marker\":{\"color\":\"#B6E880\",\"symbol\":\"circle\"},\"mode\":\"markers\",\"name\":\"Ohio\",\"orientation\":\"v\",\"showlegend\":true,\"x\":[-188.18443298339844],\"xaxis\":\"x\",\"y\":[151.38873291015625],\"yaxis\":\"y\",\"type\":\"scatter\"},{\"customdata\":[[\"Tennessee\"]],\"hovertemplate\":\"state=%{customdata[0]}<br>px=%{x}<br>py=%{y}<extra></extra>\",\"legendgroup\":\"Tennessee\",\"marker\":{\"color\":\"#FF97FF\",\"symbol\":\"circle\"},\"mode\":\"markers\",\"name\":\"Tennessee\",\"orientation\":\"v\",\"showlegend\":true,\"x\":[159.50965881347656],\"xaxis\":\"x\",\"y\":[115.64142608642578],\"yaxis\":\"y\",\"type\":\"scatter\"},{\"customdata\":[[\"Nevada\"]],\"hovertemplate\":\"state=%{customdata[0]}<br>px=%{x}<br>py=%{y}<extra></extra>\",\"legendgroup\":\"Nevada\",\"marker\":{\"color\":\"#FECB52\",\"symbol\":\"circle\"},\"mode\":\"markers\",\"name\":\"Nevada\",\"orientation\":\"v\",\"showlegend\":true,\"x\":[-292.226806640625],\"xaxis\":\"x\",\"y\":[-330.96087646484375],\"yaxis\":\"y\",\"type\":\"scatter\"},{\"customdata\":[[\"Utah\"]],\"hovertemplate\":\"state=%{customdata[0]}<br>px=%{x}<br>py=%{y}<extra></extra>\",\"legendgroup\":\"Utah\",\"marker\":{\"color\":\"#636efa\",\"symbol\":\"circle\"},\"mode\":\"markers\",\"name\":\"Utah\",\"orientation\":\"v\",\"showlegend\":true,\"x\":[-112.92096710205078],\"xaxis\":\"x\",\"y\":[-141.2620391845703],\"yaxis\":\"y\",\"type\":\"scatter\"},{\"customdata\":[[\"California\"]],\"hovertemplate\":\"state=%{customdata[0]}<br>px=%{x}<br>py=%{y}<extra></extra>\",\"legendgroup\":\"California\",\"marker\":{\"color\":\"#EF553B\",\"symbol\":\"circle\"},\"mode\":\"markers\",\"name\":\"California\",\"orientation\":\"v\",\"showlegend\":true,\"x\":[-480.68280029296875],\"xaxis\":\"x\",\"y\":[-477.513671875],\"yaxis\":\"y\",\"type\":\"scatter\"},{\"customdata\":[[\"Oklahoma\"]],\"hovertemplate\":\"state=%{customdata[0]}<br>px=%{x}<br>py=%{y}<extra></extra>\",\"legendgroup\":\"Oklahoma\",\"marker\":{\"color\":\"#00cc96\",\"symbol\":\"circle\"},\"mode\":\"markers\",\"name\":\"Oklahoma\",\"orientation\":\"v\",\"showlegend\":true,\"x\":[-221.55638122558594],\"xaxis\":\"x\",\"y\":[-211.26255798339844],\"yaxis\":\"y\",\"type\":\"scatter\"},{\"customdata\":[[\"New York\"]],\"hovertemplate\":\"state=%{customdata[0]}<br>px=%{x}<br>py=%{y}<extra></extra>\",\"legendgroup\":\"New York\",\"marker\":{\"color\":\"#ab63fa\",\"symbol\":\"circle\"},\"mode\":\"markers\",\"name\":\"New York\",\"orientation\":\"v\",\"showlegend\":true,\"x\":[223.4499969482422],\"xaxis\":\"x\",\"y\":[-180.7259521484375],\"yaxis\":\"y\",\"type\":\"scatter\"},{\"customdata\":[[\"Nebraska\"]],\"hovertemplate\":\"state=%{customdata[0]}<br>px=%{x}<br>py=%{y}<extra></extra>\",\"legendgroup\":\"Nebraska\",\"marker\":{\"color\":\"#FFA15A\",\"symbol\":\"circle\"},\"mode\":\"markers\",\"name\":\"Nebraska\",\"orientation\":\"v\",\"showlegend\":true,\"x\":[-294.0962219238281],\"xaxis\":\"x\",\"y\":[267.8756103515625],\"yaxis\":\"y\",\"type\":\"scatter\"},{\"customdata\":[[\"New Mexico\"]],\"hovertemplate\":\"state=%{customdata[0]}<br>px=%{x}<br>py=%{y}<extra></extra>\",\"legendgroup\":\"New Mexico\",\"marker\":{\"color\":\"#19d3f3\",\"symbol\":\"circle\"},\"mode\":\"markers\",\"name\":\"New Mexico\",\"orientation\":\"v\",\"showlegend\":true,\"x\":[-397.66925048828125],\"xaxis\":\"x\",\"y\":[377.556396484375],\"yaxis\":\"y\",\"type\":\"scatter\"},{\"customdata\":[[\"Wyoming\"]],\"hovertemplate\":\"state=%{customdata[0]}<br>px=%{x}<br>py=%{y}<extra></extra>\",\"legendgroup\":\"Wyoming\",\"marker\":{\"color\":\"#FF6692\",\"symbol\":\"circle\"},\"mode\":\"markers\",\"name\":\"Wyoming\",\"orientation\":\"v\",\"showlegend\":true,\"x\":[-319.92218017578125],\"xaxis\":\"x\",\"y\":[-98.83281707763672],\"yaxis\":\"y\",\"type\":\"scatter\"},{\"customdata\":[[\"Virginia\"]],\"hovertemplate\":\"state=%{customdata[0]}<br>px=%{x}<br>py=%{y}<extra></extra>\",\"legendgroup\":\"Virginia\",\"marker\":{\"color\":\"#B6E880\",\"symbol\":\"circle\"},\"mode\":\"markers\",\"name\":\"Virginia\",\"orientation\":\"v\",\"showlegend\":true,\"x\":[148.22987365722656],\"xaxis\":\"x\",\"y\":[-33.10296630859375],\"yaxis\":\"y\",\"type\":\"scatter\"},{\"customdata\":[[\"North Dakota\"]],\"hovertemplate\":\"state=%{customdata[0]}<br>px=%{x}<br>py=%{y}<extra></extra>\",\"legendgroup\":\"North Dakota\",\"marker\":{\"color\":\"#FF97FF\",\"symbol\":\"circle\"},\"mode\":\"markers\",\"name\":\"North Dakota\",\"orientation\":\"v\",\"showlegend\":true,\"x\":[101.29730987548828],\"xaxis\":\"x\",\"y\":[270.33917236328125],\"yaxis\":\"y\",\"type\":\"scatter\"},{\"customdata\":[[\"Minnesota\"]],\"hovertemplate\":\"state=%{customdata[0]}<br>px=%{x}<br>py=%{y}<extra></extra>\",\"legendgroup\":\"Minnesota\",\"marker\":{\"color\":\"#FECB52\",\"symbol\":\"circle\"},\"mode\":\"markers\",\"name\":\"Minnesota\",\"orientation\":\"v\",\"showlegend\":true,\"x\":[109.48262786865234],\"xaxis\":\"x\",\"y\":[45.74870681762695],\"yaxis\":\"y\",\"type\":\"scatter\"},{\"customdata\":[[\"Maine\"]],\"hovertemplate\":\"state=%{customdata[0]}<br>px=%{x}<br>py=%{y}<extra></extra>\",\"legendgroup\":\"Maine\",\"marker\":{\"color\":\"#636efa\",\"symbol\":\"circle\"},\"mode\":\"markers\",\"name\":\"Maine\",\"orientation\":\"v\",\"showlegend\":true,\"x\":[-50.20868682861328],\"xaxis\":\"x\",\"y\":[163.75457763671875],\"yaxis\":\"y\",\"type\":\"scatter\"},{\"customdata\":[[\"Washington\"]],\"hovertemplate\":\"state=%{customdata[0]}<br>px=%{x}<br>py=%{y}<extra></extra>\",\"legendgroup\":\"Washington\",\"marker\":{\"color\":\"#EF553B\",\"symbol\":\"circle\"},\"mode\":\"markers\",\"name\":\"Washington\",\"orientation\":\"v\",\"showlegend\":true,\"x\":[-143.87173461914062],\"xaxis\":\"x\",\"y\":[52.79196548461914],\"yaxis\":\"y\",\"type\":\"scatter\"}],                        {\"autosize\":false,\"height\":2000,\"template\":{\"data\":{\"barpolar\":[{\"marker\":{\"line\":{\"color\":\"#E5ECF6\",\"width\":0.5},\"pattern\":{\"fillmode\":\"overlay\",\"size\":10,\"solidity\":0.2}},\"type\":\"barpolar\"}],\"bar\":[{\"error_x\":{\"color\":\"#2a3f5f\"},\"error_y\":{\"color\":\"#2a3f5f\"},\"marker\":{\"line\":{\"color\":\"#E5ECF6\",\"width\":0.5},\"pattern\":{\"fillmode\":\"overlay\",\"size\":10,\"solidity\":0.2}},\"type\":\"bar\"}],\"carpet\":[{\"aaxis\":{\"endlinecolor\":\"#2a3f5f\",\"gridcolor\":\"white\",\"linecolor\":\"white\",\"minorgridcolor\":\"white\",\"startlinecolor\":\"#2a3f5f\"},\"baxis\":{\"endlinecolor\":\"#2a3f5f\",\"gridcolor\":\"white\",\"linecolor\":\"white\",\"minorgridcolor\":\"white\",\"startlinecolor\":\"#2a3f5f\"},\"type\":\"carpet\"}],\"choropleth\":[{\"colorbar\":{\"outlinewidth\":0,\"ticks\":\"\"},\"type\":\"choropleth\"}],\"contourcarpet\":[{\"colorbar\":{\"outlinewidth\":0,\"ticks\":\"\"},\"type\":\"contourcarpet\"}],\"contour\":[{\"colorbar\":{\"outlinewidth\":0,\"ticks\":\"\"},\"colorscale\":[[0.0,\"#0d0887\"],[0.1111111111111111,\"#46039f\"],[0.2222222222222222,\"#7201a8\"],[0.3333333333333333,\"#9c179e\"],[0.4444444444444444,\"#bd3786\"],[0.5555555555555556,\"#d8576b\"],[0.6666666666666666,\"#ed7953\"],[0.7777777777777778,\"#fb9f3a\"],[0.8888888888888888,\"#fdca26\"],[1.0,\"#f0f921\"]],\"type\":\"contour\"}],\"heatmapgl\":[{\"colorbar\":{\"outlinewidth\":0,\"ticks\":\"\"},\"colorscale\":[[0.0,\"#0d0887\"],[0.1111111111111111,\"#46039f\"],[0.2222222222222222,\"#7201a8\"],[0.3333333333333333,\"#9c179e\"],[0.4444444444444444,\"#bd3786\"],[0.5555555555555556,\"#d8576b\"],[0.6666666666666666,\"#ed7953\"],[0.7777777777777778,\"#fb9f3a\"],[0.8888888888888888,\"#fdca26\"],[1.0,\"#f0f921\"]],\"type\":\"heatmapgl\"}],\"heatmap\":[{\"colorbar\":{\"outlinewidth\":0,\"ticks\":\"\"},\"colorscale\":[[0.0,\"#0d0887\"],[0.1111111111111111,\"#46039f\"],[0.2222222222222222,\"#7201a8\"],[0.3333333333333333,\"#9c179e\"],[0.4444444444444444,\"#bd3786\"],[0.5555555555555556,\"#d8576b\"],[0.6666666666666666,\"#ed7953\"],[0.7777777777777778,\"#fb9f3a\"],[0.8888888888888888,\"#fdca26\"],[1.0,\"#f0f921\"]],\"type\":\"heatmap\"}],\"histogram2dcontour\":[{\"colorbar\":{\"outlinewidth\":0,\"ticks\":\"\"},\"colorscale\":[[0.0,\"#0d0887\"],[0.1111111111111111,\"#46039f\"],[0.2222222222222222,\"#7201a8\"],[0.3333333333333333,\"#9c179e\"],[0.4444444444444444,\"#bd3786\"],[0.5555555555555556,\"#d8576b\"],[0.6666666666666666,\"#ed7953\"],[0.7777777777777778,\"#fb9f3a\"],[0.8888888888888888,\"#fdca26\"],[1.0,\"#f0f921\"]],\"type\":\"histogram2dcontour\"}],\"histogram2d\":[{\"colorbar\":{\"outlinewidth\":0,\"ticks\":\"\"},\"colorscale\":[[0.0,\"#0d0887\"],[0.1111111111111111,\"#46039f\"],[0.2222222222222222,\"#7201a8\"],[0.3333333333333333,\"#9c179e\"],[0.4444444444444444,\"#bd3786\"],[0.5555555555555556,\"#d8576b\"],[0.6666666666666666,\"#ed7953\"],[0.7777777777777778,\"#fb9f3a\"],[0.8888888888888888,\"#fdca26\"],[1.0,\"#f0f921\"]],\"type\":\"histogram2d\"}],\"histogram\":[{\"marker\":{\"pattern\":{\"fillmode\":\"overlay\",\"size\":10,\"solidity\":0.2}},\"type\":\"histogram\"}],\"mesh3d\":[{\"colorbar\":{\"outlinewidth\":0,\"ticks\":\"\"},\"type\":\"mesh3d\"}],\"parcoords\":[{\"line\":{\"colorbar\":{\"outlinewidth\":0,\"ticks\":\"\"}},\"type\":\"parcoords\"}],\"pie\":[{\"automargin\":true,\"type\":\"pie\"}],\"scatter3d\":[{\"line\":{\"colorbar\":{\"outlinewidth\":0,\"ticks\":\"\"}},\"marker\":{\"colorbar\":{\"outlinewidth\":0,\"ticks\":\"\"}},\"type\":\"scatter3d\"}],\"scattercarpet\":[{\"marker\":{\"colorbar\":{\"outlinewidth\":0,\"ticks\":\"\"}},\"type\":\"scattercarpet\"}],\"scattergeo\":[{\"marker\":{\"colorbar\":{\"outlinewidth\":0,\"ticks\":\"\"}},\"type\":\"scattergeo\"}],\"scattergl\":[{\"marker\":{\"colorbar\":{\"outlinewidth\":0,\"ticks\":\"\"}},\"type\":\"scattergl\"}],\"scattermapbox\":[{\"marker\":{\"colorbar\":{\"outlinewidth\":0,\"ticks\":\"\"}},\"type\":\"scattermapbox\"}],\"scatterpolargl\":[{\"marker\":{\"colorbar\":{\"outlinewidth\":0,\"ticks\":\"\"}},\"type\":\"scatterpolargl\"}],\"scatterpolar\":[{\"marker\":{\"colorbar\":{\"outlinewidth\":0,\"ticks\":\"\"}},\"type\":\"scatterpolar\"}],\"scatter\":[{\"fillpattern\":{\"fillmode\":\"overlay\",\"size\":10,\"solidity\":0.2},\"type\":\"scatter\"}],\"scatterternary\":[{\"marker\":{\"colorbar\":{\"outlinewidth\":0,\"ticks\":\"\"}},\"type\":\"scatterternary\"}],\"surface\":[{\"colorbar\":{\"outlinewidth\":0,\"ticks\":\"\"},\"colorscale\":[[0.0,\"#0d0887\"],[0.1111111111111111,\"#46039f\"],[0.2222222222222222,\"#7201a8\"],[0.3333333333333333,\"#9c179e\"],[0.4444444444444444,\"#bd3786\"],[0.5555555555555556,\"#d8576b\"],[0.6666666666666666,\"#ed7953\"],[0.7777777777777778,\"#fb9f3a\"],[0.8888888888888888,\"#fdca26\"],[1.0,\"#f0f921\"]],\"type\":\"surface\"}],\"table\":[{\"cells\":{\"fill\":{\"color\":\"#EBF0F8\"},\"line\":{\"color\":\"white\"}},\"header\":{\"fill\":{\"color\":\"#C8D4E3\"},\"line\":{\"color\":\"white\"}},\"type\":\"table\"}]},\"layout\":{\"annotationdefaults\":{\"arrowcolor\":\"#2a3f5f\",\"arrowhead\":0,\"arrowwidth\":1},\"autotypenumbers\":\"strict\",\"coloraxis\":{\"colorbar\":{\"outlinewidth\":0,\"ticks\":\"\"}},\"colorscale\":{\"diverging\":[[0,\"#8e0152\"],[0.1,\"#c51b7d\"],[0.2,\"#de77ae\"],[0.3,\"#f1b6da\"],[0.4,\"#fde0ef\"],[0.5,\"#f7f7f7\"],[0.6,\"#e6f5d0\"],[0.7,\"#b8e186\"],[0.8,\"#7fbc41\"],[0.9,\"#4d9221\"],[1,\"#276419\"]],\"sequential\":[[0.0,\"#0d0887\"],[0.1111111111111111,\"#46039f\"],[0.2222222222222222,\"#7201a8\"],[0.3333333333333333,\"#9c179e\"],[0.4444444444444444,\"#bd3786\"],[0.5555555555555556,\"#d8576b\"],[0.6666666666666666,\"#ed7953\"],[0.7777777777777778,\"#fb9f3a\"],[0.8888888888888888,\"#fdca26\"],[1.0,\"#f0f921\"]],\"sequentialminus\":[[0.0,\"#0d0887\"],[0.1111111111111111,\"#46039f\"],[0.2222222222222222,\"#7201a8\"],[0.3333333333333333,\"#9c179e\"],[0.4444444444444444,\"#bd3786\"],[0.5555555555555556,\"#d8576b\"],[0.6666666666666666,\"#ed7953\"],[0.7777777777777778,\"#fb9f3a\"],[0.8888888888888888,\"#fdca26\"],[1.0,\"#f0f921\"]]},\"colorway\":[\"#636efa\",\"#EF553B\",\"#00cc96\",\"#ab63fa\",\"#FFA15A\",\"#19d3f3\",\"#FF6692\",\"#B6E880\",\"#FF97FF\",\"#FECB52\"],\"font\":{\"color\":\"#2a3f5f\"},\"geo\":{\"bgcolor\":\"white\",\"lakecolor\":\"white\",\"landcolor\":\"#E5ECF6\",\"showlakes\":true,\"showland\":true,\"subunitcolor\":\"white\"},\"hoverlabel\":{\"align\":\"left\"},\"hovermode\":\"closest\",\"mapbox\":{\"style\":\"light\"},\"paper_bgcolor\":\"white\",\"plot_bgcolor\":\"#E5ECF6\",\"polar\":{\"angularaxis\":{\"gridcolor\":\"white\",\"linecolor\":\"white\",\"ticks\":\"\"},\"bgcolor\":\"#E5ECF6\",\"radialaxis\":{\"gridcolor\":\"white\",\"linecolor\":\"white\",\"ticks\":\"\"}},\"scene\":{\"xaxis\":{\"backgroundcolor\":\"#E5ECF6\",\"gridcolor\":\"white\",\"gridwidth\":2,\"linecolor\":\"white\",\"showbackground\":true,\"ticks\":\"\",\"zerolinecolor\":\"white\"},\"yaxis\":{\"backgroundcolor\":\"#E5ECF6\",\"gridcolor\":\"white\",\"gridwidth\":2,\"linecolor\":\"white\",\"showbackground\":true,\"ticks\":\"\",\"zerolinecolor\":\"white\"},\"zaxis\":{\"backgroundcolor\":\"#E5ECF6\",\"gridcolor\":\"white\",\"gridwidth\":2,\"linecolor\":\"white\",\"showbackground\":true,\"ticks\":\"\",\"zerolinecolor\":\"white\"}},\"shapedefaults\":{\"line\":{\"color\":\"#2a3f5f\"}},\"ternary\":{\"aaxis\":{\"gridcolor\":\"white\",\"linecolor\":\"white\",\"ticks\":\"\"},\"baxis\":{\"gridcolor\":\"white\",\"linecolor\":\"white\",\"ticks\":\"\"},\"bgcolor\":\"#E5ECF6\",\"caxis\":{\"gridcolor\":\"white\",\"linecolor\":\"white\",\"ticks\":\"\"}},\"title\":{\"x\":0.05},\"xaxis\":{\"automargin\":true,\"gridcolor\":\"white\",\"linecolor\":\"white\",\"ticks\":\"\",\"title\":{\"standoff\":15},\"zerolinecolor\":\"white\",\"zerolinewidth\":2},\"yaxis\":{\"automargin\":true,\"gridcolor\":\"white\",\"linecolor\":\"white\",\"ticks\":\"\",\"title\":{\"standoff\":15},\"zerolinecolor\":\"white\",\"zerolinewidth\":2}}},\"width\":2000},                        {\"responsive\": true}                    ).then(function(){\n",
       "                            \n",
       "var gd = document.getElementById('844c37ad-cf5e-41cd-99e9-a8cbb87af303');\n",
       "var x = new MutationObserver(function (mutations, observer) {{\n",
       "        var display = window.getComputedStyle(gd).display;\n",
       "        if (!display || display === 'none') {{\n",
       "            console.log([gd, 'removed!']);\n",
       "            Plotly.purge(gd);\n",
       "            observer.disconnect();\n",
       "        }}\n",
       "}});\n",
       "\n",
       "// Listen for the removal of the full notebook cells\n",
       "var notebookContainer = gd.closest('#notebook-container');\n",
       "if (notebookContainer) {{\n",
       "    x.observe(notebookContainer, {childList: true});\n",
       "}}\n",
       "\n",
       "// Listen for the clearing of the current output cell\n",
       "var outputEl = gd.closest('.output');\n",
       "if (outputEl) {{\n",
       "    x.observe(outputEl, {childList: true});\n",
       "}}\n",
       "\n",
       "                        })                };                });            </script>        </div>"
      ]
     },
     "metadata": {},
     "output_type": "display_data"
    }
   ],
   "source": [
    "pdf = tdf[:PN]\n",
    "fig = go.Figure()\n",
    "fig.add_contour(x=0.5*(xs[:-1]+xs[1:]), y=0.5*(ys[:-1]+ys[1:]), z=azs.T, colorscale=\"Greys\", showscale=False, opacity=0.4)\n",
    "fig.add_traces(px.scatter(pdf, x='px', y='py', color='state', hover_data=['state']).data)\n",
    "fig.update_layout(autosize=False, width=1600, height=1400)\n",
    "\n",
    "# fig.write_html(\"plots/final/umap_xtra.html\".format(PN), include_plotlyjs='cdn')\n",
    "fig.update_layout(\n",
    "    autosize=False,\n",
    "    width=2000,\n",
    "    height=2000,)\n",
    "iplot(fig)"
   ]
  },
  {
   "cell_type": "code",
   "execution_count": null,
   "id": "b67554a3",
   "metadata": {},
   "outputs": [],
   "source": []
  },
  {
   "cell_type": "code",
   "execution_count": null,
   "id": "f3ad929c",
   "metadata": {},
   "outputs": [],
   "source": []
  },
  {
   "cell_type": "code",
   "execution_count": null,
   "id": "abe12ada",
   "metadata": {},
   "outputs": [],
   "source": []
  }
 ],
 "metadata": {
  "kernelspec": {
   "display_name": "Python 3",
   "language": "python",
   "name": "python3"
  },
  "language_info": {
   "codemirror_mode": {
    "name": "ipython",
    "version": 3
   },
   "file_extension": ".py",
   "mimetype": "text/x-python",
   "name": "python",
   "nbconvert_exporter": "python",
   "pygments_lexer": "ipython3",
   "version": "3.9.15"
  }
 },
 "nbformat": 4,
 "nbformat_minor": 5
}
